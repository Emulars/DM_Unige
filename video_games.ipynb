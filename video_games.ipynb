{
  "cells": [
    {
      "cell_type": "markdown",
      "metadata": {
        "id": "IpsB3BmmeHY7"
      },
      "source": [
        "# Progetto: Video games dataset (9)\n",
        "\n",
        "Miggiano Davide"
      ]
    },
    {
      "cell_type": "code",
      "execution_count": 64,
      "metadata": {
        "id": "F7gHJBPFeHY9",
        "colab": {
          "base_uri": "https://localhost:8080/"
        },
        "outputId": "b10e9afd-51d7-4f1f-e952-c318dc9f5853"
      },
      "outputs": [
        {
          "output_type": "stream",
          "name": "stdout",
          "text": [
            "1.7.0\n"
          ]
        }
      ],
      "source": [
        "import os\n",
        "import random\n",
        "import numpy as np\n",
        "import pandas as pd \n",
        "import matplotlib.pyplot as plt \n",
        "import scipy.stats as stats\n",
        "from sklearn.model_selection import train_test_split\n",
        "from sklearn.linear_model import LinearRegression\n",
        "from sklearn import metrics\n",
        "import seaborn as sb #Heat map\n",
        "\n",
        "#!pip install scipy==1.7.0\n",
        "import scipy\n",
        "print (scipy.__version__)"
      ]
    },
    {
      "cell_type": "markdown",
      "source": [
        "**Dateset Video Games**\n",
        "\n",
        "Il dataset Video_Games contiene un campione di video giochi rilasciati tra il 1980 e il 2020."
      ],
      "metadata": {
        "id": "jtDHPtjlea1W"
      }
    },
    {
      "cell_type": "code",
      "source": [
        "#Importiamo il dataset\n",
        "games = pd.read_csv('Video_Games.csv')\n",
        "games.head()"
      ],
      "metadata": {
        "colab": {
          "base_uri": "https://localhost:8080/",
          "height": 339
        },
        "id": "zTvL2kUMe-fk",
        "outputId": "3760e3ab-d7da-4a83-f383-2faa0b9d64db"
      },
      "execution_count": 3,
      "outputs": [
        {
          "output_type": "execute_result",
          "data": {
            "text/plain": [
              "                       Name Platform  Year_of_Release         Genre Publisher  \\\n",
              "0                Wii Sports      Wii           2006.0        Sports  Nintendo   \n",
              "1         Super Mario Bros.      NES           1985.0      Platform  Nintendo   \n",
              "2            Mario Kart Wii      Wii           2008.0        Racing  Nintendo   \n",
              "3         Wii Sports Resort      Wii           2009.0        Sports  Nintendo   \n",
              "4  Pokemon Red/Pokemon Blue       GB           1996.0  Role-Playing  Nintendo   \n",
              "\n",
              "   NA_Sales  EU_Sales  JP_Sales  Other_Sales  Global_Sales  Critic_Score  \\\n",
              "0     41.36     28.96      3.77         8.45         82.53          76.0   \n",
              "1     29.08      3.58      6.81         0.77         40.24           NaN   \n",
              "2     15.68     12.76      3.79         3.29         35.52          82.0   \n",
              "3     15.61     10.93      3.28         2.95         32.77          80.0   \n",
              "4     11.27      8.89     10.22         1.00         31.37           NaN   \n",
              "\n",
              "   Critic_Count User_Score  User_Count Developer Rating  \n",
              "0          51.0          8       322.0  Nintendo      E  \n",
              "1           NaN        NaN         NaN       NaN    NaN  \n",
              "2          73.0        8.3       709.0  Nintendo      E  \n",
              "3          73.0          8       192.0  Nintendo      E  \n",
              "4           NaN        NaN         NaN       NaN    NaN  "
            ],
            "text/html": [
              "\n",
              "  <div id=\"df-cc1266af-8476-4f76-842d-0435d7829894\">\n",
              "    <div class=\"colab-df-container\">\n",
              "      <div>\n",
              "<style scoped>\n",
              "    .dataframe tbody tr th:only-of-type {\n",
              "        vertical-align: middle;\n",
              "    }\n",
              "\n",
              "    .dataframe tbody tr th {\n",
              "        vertical-align: top;\n",
              "    }\n",
              "\n",
              "    .dataframe thead th {\n",
              "        text-align: right;\n",
              "    }\n",
              "</style>\n",
              "<table border=\"1\" class=\"dataframe\">\n",
              "  <thead>\n",
              "    <tr style=\"text-align: right;\">\n",
              "      <th></th>\n",
              "      <th>Name</th>\n",
              "      <th>Platform</th>\n",
              "      <th>Year_of_Release</th>\n",
              "      <th>Genre</th>\n",
              "      <th>Publisher</th>\n",
              "      <th>NA_Sales</th>\n",
              "      <th>EU_Sales</th>\n",
              "      <th>JP_Sales</th>\n",
              "      <th>Other_Sales</th>\n",
              "      <th>Global_Sales</th>\n",
              "      <th>Critic_Score</th>\n",
              "      <th>Critic_Count</th>\n",
              "      <th>User_Score</th>\n",
              "      <th>User_Count</th>\n",
              "      <th>Developer</th>\n",
              "      <th>Rating</th>\n",
              "    </tr>\n",
              "  </thead>\n",
              "  <tbody>\n",
              "    <tr>\n",
              "      <th>0</th>\n",
              "      <td>Wii Sports</td>\n",
              "      <td>Wii</td>\n",
              "      <td>2006.0</td>\n",
              "      <td>Sports</td>\n",
              "      <td>Nintendo</td>\n",
              "      <td>41.36</td>\n",
              "      <td>28.96</td>\n",
              "      <td>3.77</td>\n",
              "      <td>8.45</td>\n",
              "      <td>82.53</td>\n",
              "      <td>76.0</td>\n",
              "      <td>51.0</td>\n",
              "      <td>8</td>\n",
              "      <td>322.0</td>\n",
              "      <td>Nintendo</td>\n",
              "      <td>E</td>\n",
              "    </tr>\n",
              "    <tr>\n",
              "      <th>1</th>\n",
              "      <td>Super Mario Bros.</td>\n",
              "      <td>NES</td>\n",
              "      <td>1985.0</td>\n",
              "      <td>Platform</td>\n",
              "      <td>Nintendo</td>\n",
              "      <td>29.08</td>\n",
              "      <td>3.58</td>\n",
              "      <td>6.81</td>\n",
              "      <td>0.77</td>\n",
              "      <td>40.24</td>\n",
              "      <td>NaN</td>\n",
              "      <td>NaN</td>\n",
              "      <td>NaN</td>\n",
              "      <td>NaN</td>\n",
              "      <td>NaN</td>\n",
              "      <td>NaN</td>\n",
              "    </tr>\n",
              "    <tr>\n",
              "      <th>2</th>\n",
              "      <td>Mario Kart Wii</td>\n",
              "      <td>Wii</td>\n",
              "      <td>2008.0</td>\n",
              "      <td>Racing</td>\n",
              "      <td>Nintendo</td>\n",
              "      <td>15.68</td>\n",
              "      <td>12.76</td>\n",
              "      <td>3.79</td>\n",
              "      <td>3.29</td>\n",
              "      <td>35.52</td>\n",
              "      <td>82.0</td>\n",
              "      <td>73.0</td>\n",
              "      <td>8.3</td>\n",
              "      <td>709.0</td>\n",
              "      <td>Nintendo</td>\n",
              "      <td>E</td>\n",
              "    </tr>\n",
              "    <tr>\n",
              "      <th>3</th>\n",
              "      <td>Wii Sports Resort</td>\n",
              "      <td>Wii</td>\n",
              "      <td>2009.0</td>\n",
              "      <td>Sports</td>\n",
              "      <td>Nintendo</td>\n",
              "      <td>15.61</td>\n",
              "      <td>10.93</td>\n",
              "      <td>3.28</td>\n",
              "      <td>2.95</td>\n",
              "      <td>32.77</td>\n",
              "      <td>80.0</td>\n",
              "      <td>73.0</td>\n",
              "      <td>8</td>\n",
              "      <td>192.0</td>\n",
              "      <td>Nintendo</td>\n",
              "      <td>E</td>\n",
              "    </tr>\n",
              "    <tr>\n",
              "      <th>4</th>\n",
              "      <td>Pokemon Red/Pokemon Blue</td>\n",
              "      <td>GB</td>\n",
              "      <td>1996.0</td>\n",
              "      <td>Role-Playing</td>\n",
              "      <td>Nintendo</td>\n",
              "      <td>11.27</td>\n",
              "      <td>8.89</td>\n",
              "      <td>10.22</td>\n",
              "      <td>1.00</td>\n",
              "      <td>31.37</td>\n",
              "      <td>NaN</td>\n",
              "      <td>NaN</td>\n",
              "      <td>NaN</td>\n",
              "      <td>NaN</td>\n",
              "      <td>NaN</td>\n",
              "      <td>NaN</td>\n",
              "    </tr>\n",
              "  </tbody>\n",
              "</table>\n",
              "</div>\n",
              "      <button class=\"colab-df-convert\" onclick=\"convertToInteractive('df-cc1266af-8476-4f76-842d-0435d7829894')\"\n",
              "              title=\"Convert this dataframe to an interactive table.\"\n",
              "              style=\"display:none;\">\n",
              "        \n",
              "  <svg xmlns=\"http://www.w3.org/2000/svg\" height=\"24px\"viewBox=\"0 0 24 24\"\n",
              "       width=\"24px\">\n",
              "    <path d=\"M0 0h24v24H0V0z\" fill=\"none\"/>\n",
              "    <path d=\"M18.56 5.44l.94 2.06.94-2.06 2.06-.94-2.06-.94-.94-2.06-.94 2.06-2.06.94zm-11 1L8.5 8.5l.94-2.06 2.06-.94-2.06-.94L8.5 2.5l-.94 2.06-2.06.94zm10 10l.94 2.06.94-2.06 2.06-.94-2.06-.94-.94-2.06-.94 2.06-2.06.94z\"/><path d=\"M17.41 7.96l-1.37-1.37c-.4-.4-.92-.59-1.43-.59-.52 0-1.04.2-1.43.59L10.3 9.45l-7.72 7.72c-.78.78-.78 2.05 0 2.83L4 21.41c.39.39.9.59 1.41.59.51 0 1.02-.2 1.41-.59l7.78-7.78 2.81-2.81c.8-.78.8-2.07 0-2.86zM5.41 20L4 18.59l7.72-7.72 1.47 1.35L5.41 20z\"/>\n",
              "  </svg>\n",
              "      </button>\n",
              "      \n",
              "  <style>\n",
              "    .colab-df-container {\n",
              "      display:flex;\n",
              "      flex-wrap:wrap;\n",
              "      gap: 12px;\n",
              "    }\n",
              "\n",
              "    .colab-df-convert {\n",
              "      background-color: #E8F0FE;\n",
              "      border: none;\n",
              "      border-radius: 50%;\n",
              "      cursor: pointer;\n",
              "      display: none;\n",
              "      fill: #1967D2;\n",
              "      height: 32px;\n",
              "      padding: 0 0 0 0;\n",
              "      width: 32px;\n",
              "    }\n",
              "\n",
              "    .colab-df-convert:hover {\n",
              "      background-color: #E2EBFA;\n",
              "      box-shadow: 0px 1px 2px rgba(60, 64, 67, 0.3), 0px 1px 3px 1px rgba(60, 64, 67, 0.15);\n",
              "      fill: #174EA6;\n",
              "    }\n",
              "\n",
              "    [theme=dark] .colab-df-convert {\n",
              "      background-color: #3B4455;\n",
              "      fill: #D2E3FC;\n",
              "    }\n",
              "\n",
              "    [theme=dark] .colab-df-convert:hover {\n",
              "      background-color: #434B5C;\n",
              "      box-shadow: 0px 1px 3px 1px rgba(0, 0, 0, 0.15);\n",
              "      filter: drop-shadow(0px 1px 2px rgba(0, 0, 0, 0.3));\n",
              "      fill: #FFFFFF;\n",
              "    }\n",
              "  </style>\n",
              "\n",
              "      <script>\n",
              "        const buttonEl =\n",
              "          document.querySelector('#df-cc1266af-8476-4f76-842d-0435d7829894 button.colab-df-convert');\n",
              "        buttonEl.style.display =\n",
              "          google.colab.kernel.accessAllowed ? 'block' : 'none';\n",
              "\n",
              "        async function convertToInteractive(key) {\n",
              "          const element = document.querySelector('#df-cc1266af-8476-4f76-842d-0435d7829894');\n",
              "          const dataTable =\n",
              "            await google.colab.kernel.invokeFunction('convertToInteractive',\n",
              "                                                     [key], {});\n",
              "          if (!dataTable) return;\n",
              "\n",
              "          const docLinkHtml = 'Like what you see? Visit the ' +\n",
              "            '<a target=\"_blank\" href=https://colab.research.google.com/notebooks/data_table.ipynb>data table notebook</a>'\n",
              "            + ' to learn more about interactive tables.';\n",
              "          element.innerHTML = '';\n",
              "          dataTable['output_type'] = 'display_data';\n",
              "          await google.colab.output.renderOutput(dataTable, element);\n",
              "          const docLink = document.createElement('div');\n",
              "          docLink.innerHTML = docLinkHtml;\n",
              "          element.appendChild(docLink);\n",
              "        }\n",
              "      </script>\n",
              "    </div>\n",
              "  </div>\n",
              "  "
            ]
          },
          "metadata": {},
          "execution_count": 3
        }
      ]
    },
    {
      "cell_type": "markdown",
      "source": [
        "## Preparazione"
      ],
      "metadata": {
        "id": "6qri0FfOzbhx"
      }
    },
    {
      "cell_type": "markdown",
      "source": [
        "In questa fase importiamo, ripuliamo e adattiamo le features del nostro dataset"
      ],
      "metadata": {
        "id": "ITJTLiQTWYgu"
      }
    },
    {
      "cell_type": "markdown",
      "source": [
        "Features del dataset:\n",
        "\n",
        "- **Name**: Nome del gioco \n",
        "- **Platform**: Piattaforma di rilascio (possono essere multiple)\n",
        "- **Year_of_Release**: Anno di uscita\n",
        "- **Genre**: Genere del gioco\n",
        "- **Publisher**: Casa editrice\n",
        "- **NA_Sales**: Vendite in Nord America\n",
        "- **EU_Sales**: Vendite in Europa\n",
        "- **JP_Sales**: Vendite in Giappone\n",
        "- **Other_Sales**: Altre vendite\n",
        "- **Global_Sales**: Vendite nel mondo\n",
        "- **Critic_Score**: Voto dei giornalisti su metacritic\n",
        "- **Critic_Count**: Numero di voti dei giornalisti su metacritic\n",
        "- **User_Score**: Voto degli utenti su Metacritic\n",
        "- **User_Count**: Numero di voti degli utenti su metacritic\n",
        "- **Developer**: Casa di sviluppo\n",
        "- **Rating**: sistema di classificazione dei videogiochi, valutazione di quanto ogni videogioco introdotto sul mercato sia adatto ai giocatori, a seconda della loro età"
      ],
      "metadata": {
        "id": "awHp66CnglUj"
      }
    },
    {
      "cell_type": "code",
      "source": [
        "# Palette colori\n",
        "colors = ['#581845', '#900C3F', '#C70039', '#FF5733', '#FFC300', '#DAF7A6', '#4059D1', '#37CDBB', '#1BE214', '#8214E2', '#E214A6', '#89A129']"
      ],
      "metadata": {
        "id": "wQTlB1xzjWwm"
      },
      "execution_count": 4,
      "outputs": []
    },
    {
      "cell_type": "code",
      "source": [
        "#Facciamoci un'idea sulla dimensione del dataset\n",
        "print(\"Righe:\",games.shape[0])\n",
        "print(\"Features:\",games.shape[1])"
      ],
      "metadata": {
        "colab": {
          "base_uri": "https://localhost:8080/"
        },
        "id": "4aERTM05fzId",
        "outputId": "0273430b-c336-47c8-be3d-b2dfb57fddbf"
      },
      "execution_count": 5,
      "outputs": [
        {
          "output_type": "stream",
          "name": "stdout",
          "text": [
            "Righe: 16719\n",
            "Features: 16\n"
          ]
        }
      ]
    },
    {
      "cell_type": "markdown",
      "source": [
        "Dividiamo il dataset in features qualitative e quantitative, così da determinare i tipi di dati a nostra disposizione "
      ],
      "metadata": {
        "id": "AZqkKIBugL5v"
      }
    },
    {
      "cell_type": "code",
      "source": [
        "qualitative = games[['Name', 'Platform', 'Genre', 'Publisher', 'Developer', 'Rating']]\n",
        "quantitative = games[['Year_of_Release', 'NA_Sales', 'EU_Sales', 'JP_Sales', 'Other_Sales', 'Global_Sales', 'Critic_Score', 'Critic_Count', 'User_Score', 'User_Count']]"
      ],
      "metadata": {
        "id": "vRG1msvogefy"
      },
      "execution_count": 6,
      "outputs": []
    },
    {
      "cell_type": "markdown",
      "source": [
        "Utilizziamo il metodo describe() di pandas per calcolare alcuni dati statistici..."
      ],
      "metadata": {
        "id": "49ZNdVJknwla"
      }
    },
    {
      "cell_type": "code",
      "source": [
        "quantitative.describe()"
      ],
      "metadata": {
        "colab": {
          "base_uri": "https://localhost:8080/",
          "height": 0
        },
        "id": "YTIC3G4xoFyR",
        "outputId": "feecfd09-8f25-4dbd-a595-40402103cabb"
      },
      "execution_count": 7,
      "outputs": [
        {
          "output_type": "execute_result",
          "data": {
            "text/plain": [
              "       Year_of_Release      NA_Sales      EU_Sales      JP_Sales  \\\n",
              "count     16450.000000  16719.000000  16719.000000  16719.000000   \n",
              "mean       2006.487356      0.263330      0.145025      0.077602   \n",
              "std           5.878995      0.813514      0.503283      0.308818   \n",
              "min        1980.000000      0.000000      0.000000      0.000000   \n",
              "25%        2003.000000      0.000000      0.000000      0.000000   \n",
              "50%        2007.000000      0.080000      0.020000      0.000000   \n",
              "75%        2010.000000      0.240000      0.110000      0.040000   \n",
              "max        2020.000000     41.360000     28.960000     10.220000   \n",
              "\n",
              "        Other_Sales  Global_Sales  Critic_Score  Critic_Count    User_Count  \n",
              "count  16719.000000  16719.000000   8137.000000   8137.000000   7590.000000  \n",
              "mean       0.047332      0.533543     68.967679     26.360821    162.229908  \n",
              "std        0.186710      1.547935     13.938165     18.980495    561.282326  \n",
              "min        0.000000      0.010000     13.000000      3.000000      4.000000  \n",
              "25%        0.000000      0.060000     60.000000     12.000000     10.000000  \n",
              "50%        0.010000      0.170000     71.000000     21.000000     24.000000  \n",
              "75%        0.030000      0.470000     79.000000     36.000000     81.000000  \n",
              "max       10.570000     82.530000     98.000000    113.000000  10665.000000  "
            ],
            "text/html": [
              "\n",
              "  <div id=\"df-9f420c13-6f47-4992-bff5-7920b731290b\">\n",
              "    <div class=\"colab-df-container\">\n",
              "      <div>\n",
              "<style scoped>\n",
              "    .dataframe tbody tr th:only-of-type {\n",
              "        vertical-align: middle;\n",
              "    }\n",
              "\n",
              "    .dataframe tbody tr th {\n",
              "        vertical-align: top;\n",
              "    }\n",
              "\n",
              "    .dataframe thead th {\n",
              "        text-align: right;\n",
              "    }\n",
              "</style>\n",
              "<table border=\"1\" class=\"dataframe\">\n",
              "  <thead>\n",
              "    <tr style=\"text-align: right;\">\n",
              "      <th></th>\n",
              "      <th>Year_of_Release</th>\n",
              "      <th>NA_Sales</th>\n",
              "      <th>EU_Sales</th>\n",
              "      <th>JP_Sales</th>\n",
              "      <th>Other_Sales</th>\n",
              "      <th>Global_Sales</th>\n",
              "      <th>Critic_Score</th>\n",
              "      <th>Critic_Count</th>\n",
              "      <th>User_Count</th>\n",
              "    </tr>\n",
              "  </thead>\n",
              "  <tbody>\n",
              "    <tr>\n",
              "      <th>count</th>\n",
              "      <td>16450.000000</td>\n",
              "      <td>16719.000000</td>\n",
              "      <td>16719.000000</td>\n",
              "      <td>16719.000000</td>\n",
              "      <td>16719.000000</td>\n",
              "      <td>16719.000000</td>\n",
              "      <td>8137.000000</td>\n",
              "      <td>8137.000000</td>\n",
              "      <td>7590.000000</td>\n",
              "    </tr>\n",
              "    <tr>\n",
              "      <th>mean</th>\n",
              "      <td>2006.487356</td>\n",
              "      <td>0.263330</td>\n",
              "      <td>0.145025</td>\n",
              "      <td>0.077602</td>\n",
              "      <td>0.047332</td>\n",
              "      <td>0.533543</td>\n",
              "      <td>68.967679</td>\n",
              "      <td>26.360821</td>\n",
              "      <td>162.229908</td>\n",
              "    </tr>\n",
              "    <tr>\n",
              "      <th>std</th>\n",
              "      <td>5.878995</td>\n",
              "      <td>0.813514</td>\n",
              "      <td>0.503283</td>\n",
              "      <td>0.308818</td>\n",
              "      <td>0.186710</td>\n",
              "      <td>1.547935</td>\n",
              "      <td>13.938165</td>\n",
              "      <td>18.980495</td>\n",
              "      <td>561.282326</td>\n",
              "    </tr>\n",
              "    <tr>\n",
              "      <th>min</th>\n",
              "      <td>1980.000000</td>\n",
              "      <td>0.000000</td>\n",
              "      <td>0.000000</td>\n",
              "      <td>0.000000</td>\n",
              "      <td>0.000000</td>\n",
              "      <td>0.010000</td>\n",
              "      <td>13.000000</td>\n",
              "      <td>3.000000</td>\n",
              "      <td>4.000000</td>\n",
              "    </tr>\n",
              "    <tr>\n",
              "      <th>25%</th>\n",
              "      <td>2003.000000</td>\n",
              "      <td>0.000000</td>\n",
              "      <td>0.000000</td>\n",
              "      <td>0.000000</td>\n",
              "      <td>0.000000</td>\n",
              "      <td>0.060000</td>\n",
              "      <td>60.000000</td>\n",
              "      <td>12.000000</td>\n",
              "      <td>10.000000</td>\n",
              "    </tr>\n",
              "    <tr>\n",
              "      <th>50%</th>\n",
              "      <td>2007.000000</td>\n",
              "      <td>0.080000</td>\n",
              "      <td>0.020000</td>\n",
              "      <td>0.000000</td>\n",
              "      <td>0.010000</td>\n",
              "      <td>0.170000</td>\n",
              "      <td>71.000000</td>\n",
              "      <td>21.000000</td>\n",
              "      <td>24.000000</td>\n",
              "    </tr>\n",
              "    <tr>\n",
              "      <th>75%</th>\n",
              "      <td>2010.000000</td>\n",
              "      <td>0.240000</td>\n",
              "      <td>0.110000</td>\n",
              "      <td>0.040000</td>\n",
              "      <td>0.030000</td>\n",
              "      <td>0.470000</td>\n",
              "      <td>79.000000</td>\n",
              "      <td>36.000000</td>\n",
              "      <td>81.000000</td>\n",
              "    </tr>\n",
              "    <tr>\n",
              "      <th>max</th>\n",
              "      <td>2020.000000</td>\n",
              "      <td>41.360000</td>\n",
              "      <td>28.960000</td>\n",
              "      <td>10.220000</td>\n",
              "      <td>10.570000</td>\n",
              "      <td>82.530000</td>\n",
              "      <td>98.000000</td>\n",
              "      <td>113.000000</td>\n",
              "      <td>10665.000000</td>\n",
              "    </tr>\n",
              "  </tbody>\n",
              "</table>\n",
              "</div>\n",
              "      <button class=\"colab-df-convert\" onclick=\"convertToInteractive('df-9f420c13-6f47-4992-bff5-7920b731290b')\"\n",
              "              title=\"Convert this dataframe to an interactive table.\"\n",
              "              style=\"display:none;\">\n",
              "        \n",
              "  <svg xmlns=\"http://www.w3.org/2000/svg\" height=\"24px\"viewBox=\"0 0 24 24\"\n",
              "       width=\"24px\">\n",
              "    <path d=\"M0 0h24v24H0V0z\" fill=\"none\"/>\n",
              "    <path d=\"M18.56 5.44l.94 2.06.94-2.06 2.06-.94-2.06-.94-.94-2.06-.94 2.06-2.06.94zm-11 1L8.5 8.5l.94-2.06 2.06-.94-2.06-.94L8.5 2.5l-.94 2.06-2.06.94zm10 10l.94 2.06.94-2.06 2.06-.94-2.06-.94-.94-2.06-.94 2.06-2.06.94z\"/><path d=\"M17.41 7.96l-1.37-1.37c-.4-.4-.92-.59-1.43-.59-.52 0-1.04.2-1.43.59L10.3 9.45l-7.72 7.72c-.78.78-.78 2.05 0 2.83L4 21.41c.39.39.9.59 1.41.59.51 0 1.02-.2 1.41-.59l7.78-7.78 2.81-2.81c.8-.78.8-2.07 0-2.86zM5.41 20L4 18.59l7.72-7.72 1.47 1.35L5.41 20z\"/>\n",
              "  </svg>\n",
              "      </button>\n",
              "      \n",
              "  <style>\n",
              "    .colab-df-container {\n",
              "      display:flex;\n",
              "      flex-wrap:wrap;\n",
              "      gap: 12px;\n",
              "    }\n",
              "\n",
              "    .colab-df-convert {\n",
              "      background-color: #E8F0FE;\n",
              "      border: none;\n",
              "      border-radius: 50%;\n",
              "      cursor: pointer;\n",
              "      display: none;\n",
              "      fill: #1967D2;\n",
              "      height: 32px;\n",
              "      padding: 0 0 0 0;\n",
              "      width: 32px;\n",
              "    }\n",
              "\n",
              "    .colab-df-convert:hover {\n",
              "      background-color: #E2EBFA;\n",
              "      box-shadow: 0px 1px 2px rgba(60, 64, 67, 0.3), 0px 1px 3px 1px rgba(60, 64, 67, 0.15);\n",
              "      fill: #174EA6;\n",
              "    }\n",
              "\n",
              "    [theme=dark] .colab-df-convert {\n",
              "      background-color: #3B4455;\n",
              "      fill: #D2E3FC;\n",
              "    }\n",
              "\n",
              "    [theme=dark] .colab-df-convert:hover {\n",
              "      background-color: #434B5C;\n",
              "      box-shadow: 0px 1px 3px 1px rgba(0, 0, 0, 0.15);\n",
              "      filter: drop-shadow(0px 1px 2px rgba(0, 0, 0, 0.3));\n",
              "      fill: #FFFFFF;\n",
              "    }\n",
              "  </style>\n",
              "\n",
              "      <script>\n",
              "        const buttonEl =\n",
              "          document.querySelector('#df-9f420c13-6f47-4992-bff5-7920b731290b button.colab-df-convert');\n",
              "        buttonEl.style.display =\n",
              "          google.colab.kernel.accessAllowed ? 'block' : 'none';\n",
              "\n",
              "        async function convertToInteractive(key) {\n",
              "          const element = document.querySelector('#df-9f420c13-6f47-4992-bff5-7920b731290b');\n",
              "          const dataTable =\n",
              "            await google.colab.kernel.invokeFunction('convertToInteractive',\n",
              "                                                     [key], {});\n",
              "          if (!dataTable) return;\n",
              "\n",
              "          const docLinkHtml = 'Like what you see? Visit the ' +\n",
              "            '<a target=\"_blank\" href=https://colab.research.google.com/notebooks/data_table.ipynb>data table notebook</a>'\n",
              "            + ' to learn more about interactive tables.';\n",
              "          element.innerHTML = '';\n",
              "          dataTable['output_type'] = 'display_data';\n",
              "          await google.colab.output.renderOutput(dataTable, element);\n",
              "          const docLink = document.createElement('div');\n",
              "          docLink.innerHTML = docLinkHtml;\n",
              "          element.appendChild(docLink);\n",
              "        }\n",
              "      </script>\n",
              "    </div>\n",
              "  </div>\n",
              "  "
            ]
          },
          "metadata": {},
          "execution_count": 7
        }
      ]
    },
    {
      "cell_type": "markdown",
      "source": [
        "Possiamo estrapolare alcune informazioni di base, come i giochi del nostro dataset sono stati rilasciati tra il 1980 e il 2020"
      ],
      "metadata": {
        "id": "DC0dVWf4LBE_"
      }
    },
    {
      "cell_type": "code",
      "source": [
        "qualitative.describe()"
      ],
      "metadata": {
        "colab": {
          "base_uri": "https://localhost:8080/",
          "height": 0
        },
        "id": "ollETUbBoQyu",
        "outputId": "7363d142-4928-4b5e-8906-2569f3971c63"
      },
      "execution_count": 8,
      "outputs": [
        {
          "output_type": "execute_result",
          "data": {
            "text/plain": [
              "                               Name Platform   Genre        Publisher  \\\n",
              "count                         16717    16719   16717            16665   \n",
              "unique                        11562       31      12              581   \n",
              "top     Need for Speed: Most Wanted      PS2  Action  Electronic Arts   \n",
              "freq                             12     2161    3370             1356   \n",
              "\n",
              "       Developer Rating  \n",
              "count      10096   9950  \n",
              "unique      1696      8  \n",
              "top      Ubisoft      E  \n",
              "freq         204   3991  "
            ],
            "text/html": [
              "\n",
              "  <div id=\"df-f7a187c8-62eb-4ca4-97bf-73901258b57b\">\n",
              "    <div class=\"colab-df-container\">\n",
              "      <div>\n",
              "<style scoped>\n",
              "    .dataframe tbody tr th:only-of-type {\n",
              "        vertical-align: middle;\n",
              "    }\n",
              "\n",
              "    .dataframe tbody tr th {\n",
              "        vertical-align: top;\n",
              "    }\n",
              "\n",
              "    .dataframe thead th {\n",
              "        text-align: right;\n",
              "    }\n",
              "</style>\n",
              "<table border=\"1\" class=\"dataframe\">\n",
              "  <thead>\n",
              "    <tr style=\"text-align: right;\">\n",
              "      <th></th>\n",
              "      <th>Name</th>\n",
              "      <th>Platform</th>\n",
              "      <th>Genre</th>\n",
              "      <th>Publisher</th>\n",
              "      <th>Developer</th>\n",
              "      <th>Rating</th>\n",
              "    </tr>\n",
              "  </thead>\n",
              "  <tbody>\n",
              "    <tr>\n",
              "      <th>count</th>\n",
              "      <td>16717</td>\n",
              "      <td>16719</td>\n",
              "      <td>16717</td>\n",
              "      <td>16665</td>\n",
              "      <td>10096</td>\n",
              "      <td>9950</td>\n",
              "    </tr>\n",
              "    <tr>\n",
              "      <th>unique</th>\n",
              "      <td>11562</td>\n",
              "      <td>31</td>\n",
              "      <td>12</td>\n",
              "      <td>581</td>\n",
              "      <td>1696</td>\n",
              "      <td>8</td>\n",
              "    </tr>\n",
              "    <tr>\n",
              "      <th>top</th>\n",
              "      <td>Need for Speed: Most Wanted</td>\n",
              "      <td>PS2</td>\n",
              "      <td>Action</td>\n",
              "      <td>Electronic Arts</td>\n",
              "      <td>Ubisoft</td>\n",
              "      <td>E</td>\n",
              "    </tr>\n",
              "    <tr>\n",
              "      <th>freq</th>\n",
              "      <td>12</td>\n",
              "      <td>2161</td>\n",
              "      <td>3370</td>\n",
              "      <td>1356</td>\n",
              "      <td>204</td>\n",
              "      <td>3991</td>\n",
              "    </tr>\n",
              "  </tbody>\n",
              "</table>\n",
              "</div>\n",
              "      <button class=\"colab-df-convert\" onclick=\"convertToInteractive('df-f7a187c8-62eb-4ca4-97bf-73901258b57b')\"\n",
              "              title=\"Convert this dataframe to an interactive table.\"\n",
              "              style=\"display:none;\">\n",
              "        \n",
              "  <svg xmlns=\"http://www.w3.org/2000/svg\" height=\"24px\"viewBox=\"0 0 24 24\"\n",
              "       width=\"24px\">\n",
              "    <path d=\"M0 0h24v24H0V0z\" fill=\"none\"/>\n",
              "    <path d=\"M18.56 5.44l.94 2.06.94-2.06 2.06-.94-2.06-.94-.94-2.06-.94 2.06-2.06.94zm-11 1L8.5 8.5l.94-2.06 2.06-.94-2.06-.94L8.5 2.5l-.94 2.06-2.06.94zm10 10l.94 2.06.94-2.06 2.06-.94-2.06-.94-.94-2.06-.94 2.06-2.06.94z\"/><path d=\"M17.41 7.96l-1.37-1.37c-.4-.4-.92-.59-1.43-.59-.52 0-1.04.2-1.43.59L10.3 9.45l-7.72 7.72c-.78.78-.78 2.05 0 2.83L4 21.41c.39.39.9.59 1.41.59.51 0 1.02-.2 1.41-.59l7.78-7.78 2.81-2.81c.8-.78.8-2.07 0-2.86zM5.41 20L4 18.59l7.72-7.72 1.47 1.35L5.41 20z\"/>\n",
              "  </svg>\n",
              "      </button>\n",
              "      \n",
              "  <style>\n",
              "    .colab-df-container {\n",
              "      display:flex;\n",
              "      flex-wrap:wrap;\n",
              "      gap: 12px;\n",
              "    }\n",
              "\n",
              "    .colab-df-convert {\n",
              "      background-color: #E8F0FE;\n",
              "      border: none;\n",
              "      border-radius: 50%;\n",
              "      cursor: pointer;\n",
              "      display: none;\n",
              "      fill: #1967D2;\n",
              "      height: 32px;\n",
              "      padding: 0 0 0 0;\n",
              "      width: 32px;\n",
              "    }\n",
              "\n",
              "    .colab-df-convert:hover {\n",
              "      background-color: #E2EBFA;\n",
              "      box-shadow: 0px 1px 2px rgba(60, 64, 67, 0.3), 0px 1px 3px 1px rgba(60, 64, 67, 0.15);\n",
              "      fill: #174EA6;\n",
              "    }\n",
              "\n",
              "    [theme=dark] .colab-df-convert {\n",
              "      background-color: #3B4455;\n",
              "      fill: #D2E3FC;\n",
              "    }\n",
              "\n",
              "    [theme=dark] .colab-df-convert:hover {\n",
              "      background-color: #434B5C;\n",
              "      box-shadow: 0px 1px 3px 1px rgba(0, 0, 0, 0.15);\n",
              "      filter: drop-shadow(0px 1px 2px rgba(0, 0, 0, 0.3));\n",
              "      fill: #FFFFFF;\n",
              "    }\n",
              "  </style>\n",
              "\n",
              "      <script>\n",
              "        const buttonEl =\n",
              "          document.querySelector('#df-f7a187c8-62eb-4ca4-97bf-73901258b57b button.colab-df-convert');\n",
              "        buttonEl.style.display =\n",
              "          google.colab.kernel.accessAllowed ? 'block' : 'none';\n",
              "\n",
              "        async function convertToInteractive(key) {\n",
              "          const element = document.querySelector('#df-f7a187c8-62eb-4ca4-97bf-73901258b57b');\n",
              "          const dataTable =\n",
              "            await google.colab.kernel.invokeFunction('convertToInteractive',\n",
              "                                                     [key], {});\n",
              "          if (!dataTable) return;\n",
              "\n",
              "          const docLinkHtml = 'Like what you see? Visit the ' +\n",
              "            '<a target=\"_blank\" href=https://colab.research.google.com/notebooks/data_table.ipynb>data table notebook</a>'\n",
              "            + ' to learn more about interactive tables.';\n",
              "          element.innerHTML = '';\n",
              "          dataTable['output_type'] = 'display_data';\n",
              "          await google.colab.output.renderOutput(dataTable, element);\n",
              "          const docLink = document.createElement('div');\n",
              "          docLink.innerHTML = docLinkHtml;\n",
              "          element.appendChild(docLink);\n",
              "        }\n",
              "      </script>\n",
              "    </div>\n",
              "  </div>\n",
              "  "
            ]
          },
          "metadata": {},
          "execution_count": 8
        }
      ]
    },
    {
      "cell_type": "markdown",
      "source": [
        "Controlliamo la quantità di valori mancanti per ogni features del dataset"
      ],
      "metadata": {
        "id": "1btuntiurFdt"
      }
    },
    {
      "cell_type": "code",
      "source": [
        "games.isnull().sum()"
      ],
      "metadata": {
        "colab": {
          "base_uri": "https://localhost:8080/"
        },
        "id": "4buiDnELrQ1F",
        "outputId": "bc229d99-54f3-4e8a-b2a0-d65b55052de0"
      },
      "execution_count": 9,
      "outputs": [
        {
          "output_type": "execute_result",
          "data": {
            "text/plain": [
              "Name                  2\n",
              "Platform              0\n",
              "Year_of_Release     269\n",
              "Genre                 2\n",
              "Publisher            54\n",
              "NA_Sales              0\n",
              "EU_Sales              0\n",
              "JP_Sales              0\n",
              "Other_Sales           0\n",
              "Global_Sales          0\n",
              "Critic_Score       8582\n",
              "Critic_Count       8582\n",
              "User_Score         6704\n",
              "User_Count         9129\n",
              "Developer          6623\n",
              "Rating             6769\n",
              "dtype: int64"
            ]
          },
          "metadata": {},
          "execution_count": 9
        }
      ]
    },
    {
      "cell_type": "markdown",
      "source": [
        "### Rimozione valori nulli"
      ],
      "metadata": {
        "id": "yqtU1KBCJ5w6"
      }
    },
    {
      "cell_type": "markdown",
      "source": [
        "Prendiamo in considerazione prima di tutto le colonne \"Name\" e 'Publisher', che avendo rispettivamente solo 2 e 54 righe con valori nulli (su 11562 uniche) non causano grande perdita di infromazioni, quindi possiamo pensare di rimuoverle."
      ],
      "metadata": {
        "id": "vqUwWlTftAjo"
      }
    },
    {
      "cell_type": "code",
      "source": [
        "games.drop(games[games.Name.isnull()].index, inplace=True)\n",
        "games.drop(games[games.Publisher.isnull()].index, inplace=True)"
      ],
      "metadata": {
        "id": "C37X4AGDuJxL"
      },
      "execution_count": 10,
      "outputs": []
    },
    {
      "cell_type": "markdown",
      "source": [
        "Nelle features relative ai voti ed al loro numero abbiamo molti valori nulli, quindi possiamo prendere due approcci diversi:\n",
        "1. Possiamo provare a completare i valori nulli con la media dei valori delle singole colonne... (games)\n",
        "2. oppure possiamo rimuovere le righe (games_no_score)"
      ],
      "metadata": {
        "id": "LBnYNdA_yLJ9"
      }
    },
    {
      "cell_type": "code",
      "source": [
        "# Facciamo la copia del dataset prima di rimuovere le righe nulle\n",
        "games_no_score = games.copy()"
      ],
      "metadata": {
        "id": "Dmgdu3LoI97d"
      },
      "execution_count": 11,
      "outputs": []
    },
    {
      "cell_type": "code",
      "source": [
        "# Rimuoviamo le righe nulle dei punteggi dalla copia del dataset\n",
        "games_no_score.drop(games_no_score[games_no_score.Critic_Score.isnull()].index, inplace=True)\n",
        "games_no_score.drop(games_no_score[games_no_score.Critic_Count.isnull()].index, inplace=True)\n",
        "games_no_score.drop(games_no_score[games_no_score.User_Score.isnull()].index, inplace=True)\n",
        "games_no_score.drop(games_no_score[games_no_score.User_Count.isnull()].index, inplace=True)"
      ],
      "metadata": {
        "id": "fA1z0QphJLCy"
      },
      "execution_count": 12,
      "outputs": []
    },
    {
      "cell_type": "markdown",
      "source": [
        "Converto la feature \"User_Score\" da stringa a float per usi successivi"
      ],
      "metadata": {
        "id": "34eRHoOn4tDr"
      }
    },
    {
      "cell_type": "code",
      "source": [
        "#Trasformo la stringa 'tbd' (To be Defined) in NaN prima della conversione\n",
        "games['User_Score']=games.User_Score.replace('tbd',np.nan).astype(float)\n",
        "games_no_score['User_Score']=games_no_score.User_Score.replace('tbd',np.nan).astype(float)\n",
        "\n",
        "#Trasformo la feature User_Score da obj a float\n",
        "games['User_Score'] = games['User_Score'].astype(float)\n",
        "games_no_score['User_Score'] = games_no_score['User_Score'].astype(float)"
      ],
      "metadata": {
        "id": "QChTvC183Bag"
      },
      "execution_count": 13,
      "outputs": []
    },
    {
      "cell_type": "code",
      "source": [
        "#Critic\n",
        "avg_critic_score = games['Critic_Score'].mean()\n",
        "avg_critic_count = games['Critic_Count'].mean()\n",
        "games['Critic_Score'].fillna(avg_critic_score, inplace = True)\n",
        "games['Critic_Count'].fillna(avg_critic_count, inplace = True)\n",
        "\n",
        "#User\n",
        "avg_user_score = games['User_Score'].mean()\n",
        "avg_user_count = games['User_Count'].mean()\n",
        "games['User_Score'].fillna(avg_user_score, inplace = True)\n",
        "games['User_Count'].fillna(avg_user_count, inplace = True)\n",
        "\n",
        "print (\"{:<8} {:<20} {:<10}\".format('Type','Avg Score','Avg Count'))\n",
        "print (\"{:<8} {:<20} {:<10}\".format( \"Critic\", avg_critic_score, avg_critic_count))\n",
        "print (\"{:<8} {:<20} {:<10}\".format( \"User\", avg_user_score, avg_user_count))"
      ],
      "metadata": {
        "colab": {
          "base_uri": "https://localhost:8080/"
        },
        "id": "glPN5kVSy3nA",
        "outputId": "cb925970-15e2-4005-e91e-9c659ad350d0"
      },
      "execution_count": 14,
      "outputs": [
        {
          "output_type": "stream",
          "name": "stdout",
          "text": [
            "Type     Avg Score            Avg Count \n",
            "Critic   68.97307266691257    26.360260666420753\n",
            "User     7.125936181434649    162.23958333333334\n"
          ]
        }
      ]
    },
    {
      "cell_type": "markdown",
      "source": [
        "Per la data di rilascio la converto in valori interi e sostituisco i valori NaN con la media "
      ],
      "metadata": {
        "id": "mTD-PAcAHj4J"
      }
    },
    {
      "cell_type": "code",
      "source": [
        "games['Year_of_Release'] = games['Year_of_Release'].fillna(games['Year_of_Release'].mean()).astype(int)"
      ],
      "metadata": {
        "id": "SL8QOvW_HxHU"
      },
      "execution_count": 15,
      "outputs": []
    },
    {
      "cell_type": "code",
      "source": [
        "games.isnull().sum()"
      ],
      "metadata": {
        "colab": {
          "base_uri": "https://localhost:8080/"
        },
        "id": "wo1hdyD2yRKD",
        "outputId": "caf5941f-18e9-43f3-ca2f-7190eeb7f054"
      },
      "execution_count": 16,
      "outputs": [
        {
          "output_type": "execute_result",
          "data": {
            "text/plain": [
              "Name                  0\n",
              "Platform              0\n",
              "Year_of_Release       0\n",
              "Genre                 0\n",
              "Publisher             0\n",
              "NA_Sales              0\n",
              "EU_Sales              0\n",
              "JP_Sales              0\n",
              "Other_Sales           0\n",
              "Global_Sales          0\n",
              "Critic_Score          0\n",
              "Critic_Count          0\n",
              "User_Score            0\n",
              "User_Count            0\n",
              "Developer          6576\n",
              "Rating             6720\n",
              "dtype: int64"
            ]
          },
          "metadata": {},
          "execution_count": 16
        }
      ]
    },
    {
      "cell_type": "markdown",
      "source": [
        "**Potrei riempire i valori nulli del Rating con uno tra i valori unici, suddividendoli in modo equo?**\n",
        "\n",
        "`games.Rating.isnull().sum() % games.Rating.unique().size`"
      ],
      "metadata": {
        "id": "87mPlpwm4dCQ"
      }
    },
    {
      "cell_type": "markdown",
      "source": [
        "## Estrapolazione informazioni"
      ],
      "metadata": {
        "id": "X0LcY26p3mPz"
      }
    },
    {
      "cell_type": "markdown",
      "source": [
        "### ***Quali sono state le vendite totali nei diversi paesi negli anni?***"
      ],
      "metadata": {
        "id": "PATxbNWEQNQH"
      }
    },
    {
      "cell_type": "code",
      "source": [
        "#define index column\n",
        "#games.set_index('Year_of_Release', inplace=True)"
      ],
      "metadata": {
        "id": "2jWOK5hhCaq_"
      },
      "execution_count": 17,
      "outputs": []
    },
    {
      "cell_type": "code",
      "source": [
        "sales = games.groupby('Year_of_Release')[['NA_Sales','EU_Sales', 'JP_Sales','Other_Sales','Global_Sales']].sum()\n",
        "sales.plot(kind='line', title = 'Sales for year', figsize = (25,5), legend=True)"
      ],
      "metadata": {
        "colab": {
          "base_uri": "https://localhost:8080/",
          "height": 0
        },
        "id": "kWtuIHd4YOeW",
        "outputId": "0383b5cd-1477-441c-c26d-baa294170946"
      },
      "execution_count": 18,
      "outputs": [
        {
          "output_type": "execute_result",
          "data": {
            "text/plain": [
              "<matplotlib.axes._subplots.AxesSubplot at 0x7f4b45012dd0>"
            ]
          },
          "metadata": {},
          "execution_count": 18
        },
        {
          "output_type": "display_data",
          "data": {
            "text/plain": [
              "<Figure size 1800x360 with 1 Axes>"
            ],
            "image/png": "[encoded data removed]"
          },
          "metadata": {
            "needs_background": "light"
          }
        }
      ]
    },
    {
      "cell_type": "markdown",
      "source": [
        "Possiamo facilmente notare come le vendite a livello globale abbia iniziato la loro crescita a partire dal 1995, continuando fino al 2012 circa.\n",
        "\n",
        "Con questa informazione potremmo concentrare le nostre ricerche nell'arco di questi 17 anni per cercare di capire cosa abbia causato questa crescita così improssiva di questo medium."
      ],
      "metadata": {
        "id": "JvlzXx__GrhV"
      }
    },
    {
      "cell_type": "markdown",
      "source": [
        "### ***Quanti giochi sono stati rilasciati per anno?***"
      ],
      "metadata": {
        "id": "EBFdOqwfKVtS"
      }
    },
    {
      "cell_type": "code",
      "source": [
        "#Troviamo la data di rilascio più piccola e più grande\n",
        "minYear = games['Year_of_Release'].min()\n",
        "maxYear = games['Year_of_Release'].max()\n",
        "print(\"minimum value in column 'Year_of_Release': \" , minYear)\n",
        "print(\"maximum value in column 'Year_of_Release': \" , maxYear)"
      ],
      "metadata": {
        "colab": {
          "base_uri": "https://localhost:8080/"
        },
        "id": "br6_Tz2exMPG",
        "outputId": "77b32d9a-63ed-4875-fe5b-010c6b4f7605"
      },
      "execution_count": 19,
      "outputs": [
        {
          "output_type": "stream",
          "name": "stdout",
          "text": [
            "minimum value in column 'Year_of_Release':  1980\n",
            "maximum value in column 'Year_of_Release':  2020\n"
          ]
        }
      ]
    },
    {
      "cell_type": "code",
      "source": [
        "years = games['Year_of_Release'].value_counts(bins=7).reindex(np.asarray(range(int(minYear),int(maxYear+1),1)))\n",
        "years.plot(kind = 'line', title = 'Games for year', figsize = (10,10))"
      ],
      "metadata": {
        "colab": {
          "base_uri": "https://localhost:8080/",
          "height": 0
        },
        "id": "ePyetjcLD-y2",
        "outputId": "0db4f1aa-2200-4157-f58e-ad4e45f4e092"
      },
      "execution_count": 20,
      "outputs": [
        {
          "output_type": "execute_result",
          "data": {
            "text/plain": [
              "<matplotlib.axes._subplots.AxesSubplot at 0x7f4b44ea9e10>"
            ]
          },
          "metadata": {},
          "execution_count": 20
        },
        {
          "output_type": "display_data",
          "data": {
            "text/plain": [
              "<Figure size 720x720 with 1 Axes>"
            ],
            "image/png": "[encoded data removed]"
          },
          "metadata": {
            "needs_background": "light"
          }
        }
      ]
    },
    {
      "cell_type": "markdown",
      "source": [
        "Si nota facilmente come dai primi anni del 2000 fino al 2010 circa ci sia stata un'impennata in questo mercato.\n",
        "\n",
        "Cerchiamo di capire quale potrebbe essere stata la causa di una tale crescita..."
      ],
      "metadata": {
        "id": "Twp55bce2a-6"
      }
    },
    {
      "cell_type": "markdown",
      "source": [
        "### ***Qual'è la distribuzione dei giochi per le diverse piattaforme?***"
      ],
      "metadata": {
        "id": "oxAX_31iP-VY"
      }
    },
    {
      "cell_type": "code",
      "source": [
        "platforms = games['Platform'].value_counts()\n",
        "platforms.plot(kind='barh', title = 'Games for platform', figsize = (10,10))"
      ],
      "metadata": {
        "colab": {
          "base_uri": "https://localhost:8080/",
          "height": 0
        },
        "id": "yByJ5U8iCL1-",
        "outputId": "d2571193-1d48-4f32-c791-b81e78240198"
      },
      "execution_count": 21,
      "outputs": [
        {
          "output_type": "execute_result",
          "data": {
            "text/plain": [
              "<matplotlib.axes._subplots.AxesSubplot at 0x7f4b4320add0>"
            ]
          },
          "metadata": {},
          "execution_count": 21
        },
        {
          "output_type": "display_data",
          "data": {
            "text/plain": [
              "<Figure size 720x720 with 1 Axes>"
            ],
            "image/png": "[encoded data removed]"
          },
          "metadata": {
            "needs_background": "light"
          }
        }
      ]
    },
    {
      "cell_type": "markdown",
      "source": [
        "### ***Quale è stata la piattaforma con la media di vendita a livello globale più alta?***"
      ],
      "metadata": {
        "id": "NBmkV-mD3J9i"
      }
    },
    {
      "cell_type": "code",
      "source": [
        "games.groupby('Platform')['Global_Sales'].mean().plot(kind='barh', title = 'Global Sales by Platform', figsize = (10,10))"
      ],
      "metadata": {
        "colab": {
          "base_uri": "https://localhost:8080/",
          "height": 0
        },
        "id": "C8gtQzxT8Y2Z",
        "outputId": "00201022-8629-496d-f224-d06bf380864d"
      },
      "execution_count": 22,
      "outputs": [
        {
          "output_type": "execute_result",
          "data": {
            "text/plain": [
              "<matplotlib.axes._subplots.AxesSubplot at 0x7f4b430f9790>"
            ]
          },
          "metadata": {},
          "execution_count": 22
        },
        {
          "output_type": "display_data",
          "data": {
            "text/plain": [
              "<Figure size 720x720 with 1 Axes>"
            ],
            "image/png": "[encoded data removed]"
          },
          "metadata": {
            "needs_background": "light"
          }
        }
      ]
    },
    {
      "cell_type": "markdown",
      "source": [
        "Prendiamo però ora in considerazione solo le vendite tra il 2000 e il 2010"
      ],
      "metadata": {
        "id": "IsHE7UOY-YXu"
      }
    },
    {
      "cell_type": "code",
      "source": [
        "gamesInRange = games.query('Year_of_Release >= 2000 & Year_of_Release <= 2010')\n",
        "gamesInRange.groupby('Platform')[['Global_Sales']].mean().plot(kind='bar', title = 'Global Sales by Platform', figsize = (10,10), rot=0)"
      ],
      "metadata": {
        "colab": {
          "base_uri": "https://localhost:8080/",
          "height": 0
        },
        "id": "XsF2xx-b-oVL",
        "outputId": "666eda0c-1177-4d98-b221-1575db8a936d"
      },
      "execution_count": 23,
      "outputs": [
        {
          "output_type": "execute_result",
          "data": {
            "text/plain": [
              "<matplotlib.axes._subplots.AxesSubplot at 0x7f4b42fa83d0>"
            ]
          },
          "metadata": {},
          "execution_count": 23
        },
        {
          "output_type": "display_data",
          "data": {
            "text/plain": [
              "<Figure size 720x720 with 1 Axes>"
            ],
            "image/png": "[encoded data removed]"
          },
          "metadata": {
            "needs_background": "light"
          }
        }
      ]
    },
    {
      "cell_type": "markdown",
      "source": [
        "### ***Quale è stata la distribuzione dei generi dal 1980 al 2020?***"
      ],
      "metadata": {
        "id": "OZMsgOPiPz7O"
      }
    },
    {
      "cell_type": "code",
      "source": [
        "genres = games['Genre'].value_counts()\n",
        "genres.plot(kind='bar', title = 'Games for genre', figsize = (13,8), rot=0)"
      ],
      "metadata": {
        "id": "vMk4SUCZMH1U",
        "colab": {
          "base_uri": "https://localhost:8080/",
          "height": 0
        },
        "outputId": "19b7faa8-4aa9-4223-decb-255807df4dc4"
      },
      "execution_count": 24,
      "outputs": [
        {
          "output_type": "execute_result",
          "data": {
            "text/plain": [
              "<matplotlib.axes._subplots.AxesSubplot at 0x7f4b42e8fa10>"
            ]
          },
          "metadata": {},
          "execution_count": 24
        },
        {
          "output_type": "display_data",
          "data": {
            "text/plain": [
              "<Figure size 936x576 with 1 Axes>"
            ],
            "image/png": "[encoded data removed]"
          },
          "metadata": {
            "needs_background": "light"
          }
        }
      ]
    },
    {
      "cell_type": "markdown",
      "source": [
        "### ***Vendite globali medie per genere?***"
      ],
      "metadata": {
        "id": "dJdcuyxhQE9S"
      }
    },
    {
      "cell_type": "code",
      "source": [
        "games.groupby(\"Genre\")[\"Global_Sales\"].mean().plot(kind='bar', title = 'Games for genre', figsize = (13,8), rot=0)"
      ],
      "metadata": {
        "colab": {
          "base_uri": "https://localhost:8080/",
          "height": 0
        },
        "id": "bqoQNJLCGOnc",
        "outputId": "6905de61-41c8-400e-d84a-852ab77cbaa4"
      },
      "execution_count": 25,
      "outputs": [
        {
          "output_type": "execute_result",
          "data": {
            "text/plain": [
              "<matplotlib.axes._subplots.AxesSubplot at 0x7f4b42e36190>"
            ]
          },
          "metadata": {},
          "execution_count": 25
        },
        {
          "output_type": "display_data",
          "data": {
            "text/plain": [
              "<Figure size 936x576 with 1 Axes>"
            ],
            "image/png": "[encoded data removed]"
          },
          "metadata": {
            "needs_background": "light"
          }
        }
      ]
    },
    {
      "cell_type": "markdown",
      "source": [
        "### ***Qual'è la media dei voti della critica e degli utenti per genere?***"
      ],
      "metadata": {
        "id": "2PoZuM3EQU-0"
      }
    },
    {
      "cell_type": "code",
      "source": [
        "#Critic\n",
        "#games.Critic_Score = games.Critic_Score.apply(lambda x:x/10)\n",
        "games_no_score.groupby('Genre')['Critic_Score'].mean().plot(kind='bar', title = 'Mean Score (x/100) and Count ', figsize = (15,8), legend=True, ylim=(0,100))\n",
        "games_no_score.groupby('Genre')['Critic_Count'].mean().plot(kind='line', figsize = (15,8), color='black', legend=True, ylim=(0,100))"
      ],
      "metadata": {
        "colab": {
          "base_uri": "https://localhost:8080/",
          "height": 0
        },
        "id": "6hRdQ68zGRYj",
        "outputId": "9d7daf18-38b6-4571-d99e-0e211ab71fa5"
      },
      "execution_count": 26,
      "outputs": [
        {
          "output_type": "execute_result",
          "data": {
            "text/plain": [
              "<matplotlib.axes._subplots.AxesSubplot at 0x7f4b42d51dd0>"
            ]
          },
          "metadata": {},
          "execution_count": 26
        },
        {
          "output_type": "display_data",
          "data": {
            "text/plain": [
              "<Figure size 1080x576 with 1 Axes>"
            ],
            "image/png": "[encoded data removed]"
          },
          "metadata": {
            "needs_background": "light"
          }
        }
      ]
    },
    {
      "cell_type": "code",
      "source": [
        "#User\n",
        "games_no_score.groupby('Genre')['User_Score'].mean().plot(kind='bar', title = 'Mean Score (x/10) and Count', figsize = (15,8), legend=True, ylim=(0,10), rot=0)\n",
        "games_no_score.groupby('Genre')['User_Count'].mean()"
      ],
      "metadata": {
        "colab": {
          "base_uri": "https://localhost:8080/",
          "height": 0
        },
        "id": "GHhKIGUPNbHu",
        "outputId": "93b83fff-c91a-4c54-a215-cf609bc273a4"
      },
      "execution_count": 27,
      "outputs": [
        {
          "output_type": "execute_result",
          "data": {
            "text/plain": [
              "Genre\n",
              "Action          202.697078\n",
              "Adventure       114.784906\n",
              "Fighting         66.942408\n",
              "Misc             33.636364\n",
              "Platform        113.815271\n",
              "Puzzle           33.768595\n",
              "Racing           73.386288\n",
              "Role-Playing    329.328710\n",
              "Shooter         387.714447\n",
              "Simulation       91.258170\n",
              "Sports           45.151079\n",
              "Strategy        212.333333\n",
              "Name: User_Count, dtype: float64"
            ]
          },
          "metadata": {},
          "execution_count": 27
        },
        {
          "output_type": "display_data",
          "data": {
            "text/plain": [
              "<Figure size 1080x576 with 1 Axes>"
            ],
            "image/png": "[encoded data removed]"
          },
          "metadata": {
            "needs_background": "light"
          }
        }
      ]
    },
    {
      "cell_type": "markdown",
      "source": [
        "### ***Vendite medie per paesi della Nintendo***"
      ],
      "metadata": {
        "id": "vAEgFcI4QdUa"
      }
    },
    {
      "cell_type": "code",
      "source": [
        "games[['NA_Sales','EU_Sales', 'JP_Sales','Other_Sales']].where(games.Developer == 'Nintendo').mean().plot(kind='bar', title = 'Mean Nintendo\\'s sales', rot=0)"
      ],
      "metadata": {
        "colab": {
          "base_uri": "https://localhost:8080/",
          "height": 0
        },
        "id": "yC6QsS-TOkrY",
        "outputId": "8e04f99e-be05-41c1-a24d-d39250298f7e"
      },
      "execution_count": 28,
      "outputs": [
        {
          "output_type": "execute_result",
          "data": {
            "text/plain": [
              "<matplotlib.axes._subplots.AxesSubplot at 0x7f4b42c24410>"
            ]
          },
          "metadata": {},
          "execution_count": 28
        },
        {
          "output_type": "display_data",
          "data": {
            "text/plain": [
              "<Figure size 432x288 with 1 Axes>"
            ],
            "image/png": "[encoded data removed]"
          },
          "metadata": {
            "needs_background": "light"
          }
        }
      ]
    },
    {
      "cell_type": "markdown",
      "source": [
        "### ***Vendite medie nei vari anni della Wii***"
      ],
      "metadata": {
        "id": "idS9BZlEQi1Q"
      }
    },
    {
      "cell_type": "code",
      "source": [
        "wii = games.where(games.Platform == 'Wii')\n",
        "wii.groupby(\"Year_of_Release\")[['NA_Sales','EU_Sales', 'JP_Sales','Other_Sales']].mean().plot(kind='bar', title = 'Mean Wii\\'s sales for year', figsize = (13,8), rot=0)"
      ],
      "metadata": {
        "colab": {
          "base_uri": "https://localhost:8080/",
          "height": 0
        },
        "id": "FTLkrsEDOwjB",
        "outputId": "d8a40ba7-7b8b-4c35-9ba3-738b20457a51"
      },
      "execution_count": 29,
      "outputs": [
        {
          "output_type": "execute_result",
          "data": {
            "text/plain": [
              "<matplotlib.axes._subplots.AxesSubplot at 0x7f4b42fa2ad0>"
            ]
          },
          "metadata": {},
          "execution_count": 29
        },
        {
          "output_type": "display_data",
          "data": {
            "text/plain": [
              "<Figure size 936x576 with 1 Axes>"
            ],
            "image/png": "[encoded data removed]"
          },
          "metadata": {
            "needs_background": "light"
          }
        }
      ]
    },
    {
      "cell_type": "markdown",
      "source": [
        "### Voto medio della critica in base al Rating"
      ],
      "metadata": {
        "id": "y6i4GE2TSHUJ"
      }
    },
    {
      "cell_type": "markdown",
      "source": [
        "Prima di tutto individuiamo i diversi Rating"
      ],
      "metadata": {
        "id": "aZJL3s7SSs-_"
      }
    },
    {
      "cell_type": "code",
      "source": [
        "uniqueRating = games['Rating'].unique()\n",
        "print(\"Sono presenti\", uniqueRating.size, \"diversi rating:\", uniqueRating)"
      ],
      "metadata": {
        "colab": {
          "base_uri": "https://localhost:8080/"
        },
        "id": "A0KPE110S0nc",
        "outputId": "e5336c3c-f099-4d76-c18b-1eb29aecb0ed"
      },
      "execution_count": 30,
      "outputs": [
        {
          "output_type": "stream",
          "name": "stdout",
          "text": [
            "Sono presenti 9 diversi rating: ['E' nan 'M' 'T' 'E10+' 'K-A' 'AO' 'EC' 'RP']\n"
          ]
        }
      ]
    },
    {
      "cell_type": "code",
      "source": [
        "rateE = np.where(games['Rating']=='E')[0]\n",
        "rateM = np.where(games['Rating']=='M')[0]\n",
        "rateT = np.where(games['Rating']=='T')[0]\n",
        "rateE10 = np.where(games['Rating']=='E10+')[0]\n",
        "rateKA = np.where(games['Rating']=='K-A')[0]\n",
        "rateAO = np.where(games['Rating']=='AO')[0]\n",
        "rateEC = np.where(games['Rating']=='EC')[0]\n",
        "rateRP = np.where(games['Rating']=='RP')[0]\n",
        "\n",
        "print(\"Rating:\")\n",
        "print(\"- E:\",np.shape(rateE))\n",
        "print(\"- M:\",np.shape(rateM))\n",
        "print(\"- T:\",np.shape(rateT))\n",
        "print(\"- E10+:\",np.shape(rateE10))\n",
        "print(\"- K-A:\",np.shape(rateKA))\n",
        "print(\"- AO:\",np.shape(rateAO))\n",
        "print(\"- EC:\",np.shape(rateEC))\n",
        "print(\"- RP:\",np.shape(rateRP))"
      ],
      "metadata": {
        "colab": {
          "base_uri": "https://localhost:8080/"
        },
        "id": "Pfg4PVkbSdMe",
        "outputId": "bf4edb8f-63dd-4450-e43d-6a2289aaac9f"
      },
      "execution_count": 31,
      "outputs": [
        {
          "output_type": "stream",
          "name": "stdout",
          "text": [
            "Rating:\n",
            "- E: (3989,)\n",
            "- M: (1562,)\n",
            "- T: (2959,)\n",
            "- E10+: (1418,)\n",
            "- K-A: (3,)\n",
            "- AO: (1,)\n",
            "- EC: (8,)\n",
            "- RP: (3,)\n"
          ]
        }
      ]
    },
    {
      "cell_type": "markdown",
      "source": [
        "Estraiamo ora il voto medio della critica in base al Rating dei giochi"
      ],
      "metadata": {
        "id": "0zzn_OK8VpKn"
      }
    },
    {
      "cell_type": "markdown",
      "source": [
        "## Correlazioni"
      ],
      "metadata": {
        "id": "f3qtoFBEBALa"
      }
    },
    {
      "cell_type": "markdown",
      "source": [
        "Chiediamoci se c'è qualche correlazione tra le nostre features:"
      ],
      "metadata": {
        "id": "EHOVJDIM7hxx"
      }
    },
    {
      "cell_type": "markdown",
      "source": [
        "#### 1. Le vendite nei diversi paesi sono correlate tra loro?"
      ],
      "metadata": {
        "id": "xmU3MS3SeQgI"
      }
    },
    {
      "cell_type": "code",
      "source": [
        "ax = games.plot.scatter(x='NA_Sales', y='EU_Sales', title = 'Country Sales Correlation',  legend=True, color=colors[0], figsize=(8,5))\n",
        "games.plot.scatter(x='NA_Sales', y='JP_Sales', color=colors[6], ax=ax)\n",
        "games.plot.scatter(x='NA_Sales', y='Other_Sales', color=colors[2], ax=ax)"
      ],
      "metadata": {
        "colab": {
          "base_uri": "https://localhost:8080/",
          "height": 0
        },
        "id": "KcPXvPL9k0bI",
        "outputId": "754daef4-6361-467d-9f77-97f6d4eef6d5"
      },
      "execution_count": 32,
      "outputs": [
        {
          "output_type": "execute_result",
          "data": {
            "text/plain": [
              "<matplotlib.axes._subplots.AxesSubplot at 0x7f4b42fa76d0>"
            ]
          },
          "metadata": {},
          "execution_count": 32
        },
        {
          "output_type": "display_data",
          "data": {
            "text/plain": [
              "<Figure size 576x360 with 1 Axes>"
            ],
            "image/png": "[encoded data removed]"
          },
          "metadata": {
            "needs_background": "light"
          }
        }
      ]
    },
    {
      "cell_type": "markdown",
      "source": [
        "Sembrerebbe esserci una buona correlazione tra le vendite nei diversi paesi"
      ],
      "metadata": {
        "id": "-rIrO4qJhHPG"
      }
    },
    {
      "cell_type": "markdown",
      "source": [
        "#### 2. Le vendite nei diversi paesi e le vendite globali?"
      ],
      "metadata": {
        "id": "WkAx1h11hW2t"
      }
    },
    {
      "cell_type": "code",
      "source": [
        "ax = games.plot.scatter(x='Global_Sales', y='EU_Sales', title = 'Country Sales Correlation', color=colors[0], figsize=(8,5))\n",
        "games.plot.scatter(x='Global_Sales', y='JP_Sales', color=colors[6], ax=ax)\n",
        "games.plot.scatter(x='Global_Sales', y='NA_Sales', color=colors[9], ax=ax)\n",
        "games.plot.scatter(x='Global_Sales', y='Other_Sales', color=colors[2], ax=ax)"
      ],
      "metadata": {
        "colab": {
          "base_uri": "https://localhost:8080/",
          "height": 0
        },
        "id": "dyKDLRskjFfB",
        "outputId": "155208f2-eb82-42d0-8539-ded7f6cc1b38"
      },
      "execution_count": 33,
      "outputs": [
        {
          "output_type": "execute_result",
          "data": {
            "text/plain": [
              "<matplotlib.axes._subplots.AxesSubplot at 0x7f4b42d00fd0>"
            ]
          },
          "metadata": {},
          "execution_count": 33
        },
        {
          "output_type": "display_data",
          "data": {
            "text/plain": [
              "<Figure size 576x360 with 1 Axes>"
            ],
            "image/png": "[encoded data removed]"
          },
          "metadata": {
            "needs_background": "light"
          }
        }
      ]
    },
    {
      "cell_type": "markdown",
      "source": [
        "anche in questo caso sembrerebbe esserci una buona correlazione tra le vendite globali e quelle dei diversi paesi"
      ],
      "metadata": {
        "id": "IHMv3WnpkZio"
      }
    },
    {
      "cell_type": "markdown",
      "source": [
        "#### 3. Il voto della critica influisce sulle vendite globali?"
      ],
      "metadata": {
        "id": "BFO9k25CeYmC"
      }
    },
    {
      "cell_type": "code",
      "source": [
        "games_no_score.plot.scatter(x='Critic_Score', y='Global_Sales', title = 'Critic Score-Sales Correlation', color=colors[0], figsize=(8,5))"
      ],
      "metadata": {
        "colab": {
          "base_uri": "https://localhost:8080/",
          "height": 0
        },
        "id": "Dfka4mMAnrjh",
        "outputId": "41ecf507-a1b1-4f53-9cda-d47c43608930"
      },
      "execution_count": 34,
      "outputs": [
        {
          "output_type": "execute_result",
          "data": {
            "text/plain": [
              "<matplotlib.axes._subplots.AxesSubplot at 0x7f4b42c70250>"
            ]
          },
          "metadata": {},
          "execution_count": 34
        },
        {
          "output_type": "display_data",
          "data": {
            "text/plain": [
              "<Figure size 576x360 with 1 Axes>"
            ],
            "image/png": "[encoded data removed]"
          },
          "metadata": {
            "needs_background": "light"
          }
        }
      ]
    },
    {
      "cell_type": "markdown",
      "source": [
        "Il voto della critica non semba influenzare le vendite globali di un gioco"
      ],
      "metadata": {
        "id": "tvYfX0Imol6e"
      }
    },
    {
      "cell_type": "markdown",
      "source": [
        "#### 4. Il voto degli utenti influisce sulle vendite?"
      ],
      "metadata": {
        "id": "02wvCHYZemf_"
      }
    },
    {
      "cell_type": "code",
      "source": [
        "games_no_score['User_Score'] = games_no_score['User_Score'].apply(lambda x:(x*10))"
      ],
      "metadata": {
        "id": "71yxxcX-qCey"
      },
      "execution_count": 35,
      "outputs": []
    },
    {
      "cell_type": "code",
      "source": [
        "games_no_score.plot.scatter(x='User_Score', y='Global_Sales', title = 'User Score-Sales Correlation', color=colors[0], figsize=(8,5))"
      ],
      "metadata": {
        "colab": {
          "base_uri": "https://localhost:8080/",
          "height": 0
        },
        "id": "KhNodMn8ouVB",
        "outputId": "8b8ae29d-4285-4560-dfe8-55236cf427d1"
      },
      "execution_count": 36,
      "outputs": [
        {
          "output_type": "execute_result",
          "data": {
            "text/plain": [
              "<matplotlib.axes._subplots.AxesSubplot at 0x7f4b42a86490>"
            ]
          },
          "metadata": {},
          "execution_count": 36
        },
        {
          "output_type": "display_data",
          "data": {
            "text/plain": [
              "<Figure size 576x360 with 1 Axes>"
            ],
            "image/png": "[encoded data removed]"
          },
          "metadata": {
            "needs_background": "light"
          }
        }
      ]
    },
    {
      "cell_type": "markdown",
      "source": [
        "Anche il voto degli utenti non sembra influenzare le vendite"
      ],
      "metadata": {
        "id": "1AXpbqAXqFVV"
      }
    },
    {
      "cell_type": "markdown",
      "source": [
        "### Verifichiamo le ipotesi di correlazione"
      ],
      "metadata": {
        "id": "7dlJiuMtnZOY"
      }
    },
    {
      "cell_type": "markdown",
      "source": [
        "Per verificarlo, calcoliamo l'**indice di correlazione di Pearson**: "
      ],
      "metadata": {
        "id": "Bw2cbKx-dm3K"
      }
    },
    {
      "cell_type": "code",
      "source": [
        "corr = games.corr(method='pearson')\n",
        "corr"
      ],
      "metadata": {
        "colab": {
          "base_uri": "https://localhost:8080/",
          "height": 0
        },
        "id": "TfdkJUCL8CMD",
        "outputId": "93d5c28c-46e8-4355-87e9-e13c2b252594"
      },
      "execution_count": 37,
      "outputs": [
        {
          "output_type": "execute_result",
          "data": {
            "text/plain": [
              "                 Year_of_Release  NA_Sales  EU_Sales  JP_Sales  Other_Sales  \\\n",
              "Year_of_Release         1.000000 -0.092096  0.004054 -0.168237     0.037737   \n",
              "NA_Sales               -0.092096  1.000000  0.765293  0.449760     0.638622   \n",
              "EU_Sales                0.004054  0.765293  1.000000  0.435171     0.722744   \n",
              "JP_Sales               -0.168237  0.449760  0.435171  1.000000     0.291075   \n",
              "Other_Sales             0.037737  0.638622  0.722744  0.291075     1.000000   \n",
              "Global_Sales           -0.076113  0.941004  0.901221  0.612431     0.749196   \n",
              "Critic_Score            0.005940  0.185138  0.194714  0.091380     0.184916   \n",
              "Critic_Count            0.110676  0.227216  0.244658  0.107943     0.234397   \n",
              "User_Score             -0.130618  0.066011  0.048850  0.075077     0.053167   \n",
              "User_Count              0.086278  0.189036  0.249727  0.045214     0.223003   \n",
              "\n",
              "                 Global_Sales  Critic_Score  Critic_Count  User_Score  \\\n",
              "Year_of_Release     -0.076113      0.005940      0.110676   -0.130618   \n",
              "NA_Sales             0.941004      0.185138      0.227216    0.066011   \n",
              "EU_Sales             0.901221      0.194714      0.244658    0.048850   \n",
              "JP_Sales             0.612431      0.091380      0.107943    0.075077   \n",
              "Other_Sales          0.749196      0.184916      0.234397    0.053167   \n",
              "Global_Sales         1.000000      0.201081      0.248664    0.071925   \n",
              "Critic_Score         0.201081      1.000000      0.425441    0.499061   \n",
              "Critic_Count         0.248664      0.425441      1.000000    0.172548   \n",
              "User_Score           0.071925      0.499061      0.172548    1.000000   \n",
              "User_Count           0.216409      0.245510      0.341004    0.027154   \n",
              "\n",
              "                 User_Count  \n",
              "Year_of_Release    0.086278  \n",
              "NA_Sales           0.189036  \n",
              "EU_Sales           0.249727  \n",
              "JP_Sales           0.045214  \n",
              "Other_Sales        0.223003  \n",
              "Global_Sales       0.216409  \n",
              "Critic_Score       0.245510  \n",
              "Critic_Count       0.341004  \n",
              "User_Score         0.027154  \n",
              "User_Count         1.000000  "
            ],
            "text/html": [
              "\n",
              "  <div id=\"df-3aaa62f6-91a5-4ac6-a04c-11b0bd666071\">\n",
              "    <div class=\"colab-df-container\">\n",
              "      <div>\n",
              "<style scoped>\n",
              "    .dataframe tbody tr th:only-of-type {\n",
              "        vertical-align: middle;\n",
              "    }\n",
              "\n",
              "    .dataframe tbody tr th {\n",
              "        vertical-align: top;\n",
              "    }\n",
              "\n",
              "    .dataframe thead th {\n",
              "        text-align: right;\n",
              "    }\n",
              "</style>\n",
              "<table border=\"1\" class=\"dataframe\">\n",
              "  <thead>\n",
              "    <tr style=\"text-align: right;\">\n",
              "      <th></th>\n",
              "      <th>Year_of_Release</th>\n",
              "      <th>NA_Sales</th>\n",
              "      <th>EU_Sales</th>\n",
              "      <th>JP_Sales</th>\n",
              "      <th>Other_Sales</th>\n",
              "      <th>Global_Sales</th>\n",
              "      <th>Critic_Score</th>\n",
              "      <th>Critic_Count</th>\n",
              "      <th>User_Score</th>\n",
              "      <th>User_Count</th>\n",
              "    </tr>\n",
              "  </thead>\n",
              "  <tbody>\n",
              "    <tr>\n",
              "      <th>Year_of_Release</th>\n",
              "      <td>1.000000</td>\n",
              "      <td>-0.092096</td>\n",
              "      <td>0.004054</td>\n",
              "      <td>-0.168237</td>\n",
              "      <td>0.037737</td>\n",
              "      <td>-0.076113</td>\n",
              "      <td>0.005940</td>\n",
              "      <td>0.110676</td>\n",
              "      <td>-0.130618</td>\n",
              "      <td>0.086278</td>\n",
              "    </tr>\n",
              "    <tr>\n",
              "      <th>NA_Sales</th>\n",
              "      <td>-0.092096</td>\n",
              "      <td>1.000000</td>\n",
              "      <td>0.765293</td>\n",
              "      <td>0.449760</td>\n",
              "      <td>0.638622</td>\n",
              "      <td>0.941004</td>\n",
              "      <td>0.185138</td>\n",
              "      <td>0.227216</td>\n",
              "      <td>0.066011</td>\n",
              "      <td>0.189036</td>\n",
              "    </tr>\n",
              "    <tr>\n",
              "      <th>EU_Sales</th>\n",
              "      <td>0.004054</td>\n",
              "      <td>0.765293</td>\n",
              "      <td>1.000000</td>\n",
              "      <td>0.435171</td>\n",
              "      <td>0.722744</td>\n",
              "      <td>0.901221</td>\n",
              "      <td>0.194714</td>\n",
              "      <td>0.244658</td>\n",
              "      <td>0.048850</td>\n",
              "      <td>0.249727</td>\n",
              "    </tr>\n",
              "    <tr>\n",
              "      <th>JP_Sales</th>\n",
              "      <td>-0.168237</td>\n",
              "      <td>0.449760</td>\n",
              "      <td>0.435171</td>\n",
              "      <td>1.000000</td>\n",
              "      <td>0.291075</td>\n",
              "      <td>0.612431</td>\n",
              "      <td>0.091380</td>\n",
              "      <td>0.107943</td>\n",
              "      <td>0.075077</td>\n",
              "      <td>0.045214</td>\n",
              "    </tr>\n",
              "    <tr>\n",
              "      <th>Other_Sales</th>\n",
              "      <td>0.037737</td>\n",
              "      <td>0.638622</td>\n",
              "      <td>0.722744</td>\n",
              "      <td>0.291075</td>\n",
              "      <td>1.000000</td>\n",
              "      <td>0.749196</td>\n",
              "      <td>0.184916</td>\n",
              "      <td>0.234397</td>\n",
              "      <td>0.053167</td>\n",
              "      <td>0.223003</td>\n",
              "    </tr>\n",
              "    <tr>\n",
              "      <th>Global_Sales</th>\n",
              "      <td>-0.076113</td>\n",
              "      <td>0.941004</td>\n",
              "      <td>0.901221</td>\n",
              "      <td>0.612431</td>\n",
              "      <td>0.749196</td>\n",
              "      <td>1.000000</td>\n",
              "      <td>0.201081</td>\n",
              "      <td>0.248664</td>\n",
              "      <td>0.071925</td>\n",
              "      <td>0.216409</td>\n",
              "    </tr>\n",
              "    <tr>\n",
              "      <th>Critic_Score</th>\n",
              "      <td>0.005940</td>\n",
              "      <td>0.185138</td>\n",
              "      <td>0.194714</td>\n",
              "      <td>0.091380</td>\n",
              "      <td>0.184916</td>\n",
              "      <td>0.201081</td>\n",
              "      <td>1.000000</td>\n",
              "      <td>0.425441</td>\n",
              "      <td>0.499061</td>\n",
              "      <td>0.245510</td>\n",
              "    </tr>\n",
              "    <tr>\n",
              "      <th>Critic_Count</th>\n",
              "      <td>0.110676</td>\n",
              "      <td>0.227216</td>\n",
              "      <td>0.244658</td>\n",
              "      <td>0.107943</td>\n",
              "      <td>0.234397</td>\n",
              "      <td>0.248664</td>\n",
              "      <td>0.425441</td>\n",
              "      <td>1.000000</td>\n",
              "      <td>0.172548</td>\n",
              "      <td>0.341004</td>\n",
              "    </tr>\n",
              "    <tr>\n",
              "      <th>User_Score</th>\n",
              "      <td>-0.130618</td>\n",
              "      <td>0.066011</td>\n",
              "      <td>0.048850</td>\n",
              "      <td>0.075077</td>\n",
              "      <td>0.053167</td>\n",
              "      <td>0.071925</td>\n",
              "      <td>0.499061</td>\n",
              "      <td>0.172548</td>\n",
              "      <td>1.000000</td>\n",
              "      <td>0.027154</td>\n",
              "    </tr>\n",
              "    <tr>\n",
              "      <th>User_Count</th>\n",
              "      <td>0.086278</td>\n",
              "      <td>0.189036</td>\n",
              "      <td>0.249727</td>\n",
              "      <td>0.045214</td>\n",
              "      <td>0.223003</td>\n",
              "      <td>0.216409</td>\n",
              "      <td>0.245510</td>\n",
              "      <td>0.341004</td>\n",
              "      <td>0.027154</td>\n",
              "      <td>1.000000</td>\n",
              "    </tr>\n",
              "  </tbody>\n",
              "</table>\n",
              "</div>\n",
              "      <button class=\"colab-df-convert\" onclick=\"convertToInteractive('df-3aaa62f6-91a5-4ac6-a04c-11b0bd666071')\"\n",
              "              title=\"Convert this dataframe to an interactive table.\"\n",
              "              style=\"display:none;\">\n",
              "        \n",
              "  <svg xmlns=\"http://www.w3.org/2000/svg\" height=\"24px\"viewBox=\"0 0 24 24\"\n",
              "       width=\"24px\">\n",
              "    <path d=\"M0 0h24v24H0V0z\" fill=\"none\"/>\n",
              "    <path d=\"M18.56 5.44l.94 2.06.94-2.06 2.06-.94-2.06-.94-.94-2.06-.94 2.06-2.06.94zm-11 1L8.5 8.5l.94-2.06 2.06-.94-2.06-.94L8.5 2.5l-.94 2.06-2.06.94zm10 10l.94 2.06.94-2.06 2.06-.94-2.06-.94-.94-2.06-.94 2.06-2.06.94z\"/><path d=\"M17.41 7.96l-1.37-1.37c-.4-.4-.92-.59-1.43-.59-.52 0-1.04.2-1.43.59L10.3 9.45l-7.72 7.72c-.78.78-.78 2.05 0 2.83L4 21.41c.39.39.9.59 1.41.59.51 0 1.02-.2 1.41-.59l7.78-7.78 2.81-2.81c.8-.78.8-2.07 0-2.86zM5.41 20L4 18.59l7.72-7.72 1.47 1.35L5.41 20z\"/>\n",
              "  </svg>\n",
              "      </button>\n",
              "      \n",
              "  <style>\n",
              "    .colab-df-container {\n",
              "      display:flex;\n",
              "      flex-wrap:wrap;\n",
              "      gap: 12px;\n",
              "    }\n",
              "\n",
              "    .colab-df-convert {\n",
              "      background-color: #E8F0FE;\n",
              "      border: none;\n",
              "      border-radius: 50%;\n",
              "      cursor: pointer;\n",
              "      display: none;\n",
              "      fill: #1967D2;\n",
              "      height: 32px;\n",
              "      padding: 0 0 0 0;\n",
              "      width: 32px;\n",
              "    }\n",
              "\n",
              "    .colab-df-convert:hover {\n",
              "      background-color: #E2EBFA;\n",
              "      box-shadow: 0px 1px 2px rgba(60, 64, 67, 0.3), 0px 1px 3px 1px rgba(60, 64, 67, 0.15);\n",
              "      fill: #174EA6;\n",
              "    }\n",
              "\n",
              "    [theme=dark] .colab-df-convert {\n",
              "      background-color: #3B4455;\n",
              "      fill: #D2E3FC;\n",
              "    }\n",
              "\n",
              "    [theme=dark] .colab-df-convert:hover {\n",
              "      background-color: #434B5C;\n",
              "      box-shadow: 0px 1px 3px 1px rgba(0, 0, 0, 0.15);\n",
              "      filter: drop-shadow(0px 1px 2px rgba(0, 0, 0, 0.3));\n",
              "      fill: #FFFFFF;\n",
              "    }\n",
              "  </style>\n",
              "\n",
              "      <script>\n",
              "        const buttonEl =\n",
              "          document.querySelector('#df-3aaa62f6-91a5-4ac6-a04c-11b0bd666071 button.colab-df-convert');\n",
              "        buttonEl.style.display =\n",
              "          google.colab.kernel.accessAllowed ? 'block' : 'none';\n",
              "\n",
              "        async function convertToInteractive(key) {\n",
              "          const element = document.querySelector('#df-3aaa62f6-91a5-4ac6-a04c-11b0bd666071');\n",
              "          const dataTable =\n",
              "            await google.colab.kernel.invokeFunction('convertToInteractive',\n",
              "                                                     [key], {});\n",
              "          if (!dataTable) return;\n",
              "\n",
              "          const docLinkHtml = 'Like what you see? Visit the ' +\n",
              "            '<a target=\"_blank\" href=https://colab.research.google.com/notebooks/data_table.ipynb>data table notebook</a>'\n",
              "            + ' to learn more about interactive tables.';\n",
              "          element.innerHTML = '';\n",
              "          dataTable['output_type'] = 'display_data';\n",
              "          await google.colab.output.renderOutput(dataTable, element);\n",
              "          const docLink = document.createElement('div');\n",
              "          docLink.innerHTML = docLinkHtml;\n",
              "          element.appendChild(docLink);\n",
              "        }\n",
              "      </script>\n",
              "    </div>\n",
              "  </div>\n",
              "  "
            ]
          },
          "metadata": {},
          "execution_count": 37
        }
      ]
    },
    {
      "cell_type": "markdown",
      "source": [
        "Per evidenziare meglio le correlazioni possiamo rappresentare la tabella attraverso una heat map"
      ],
      "metadata": {
        "id": "NY-uImOMY7b_"
      }
    },
    {
      "cell_type": "code",
      "source": [
        "fig, ax = plt.subplots(figsize=(10,10))\n",
        "sb.heatmap(corr, cmap=\"Blues\", annot=True, ax=ax)"
      ],
      "metadata": {
        "colab": {
          "base_uri": "https://localhost:8080/",
          "height": 0
        },
        "id": "p8bN8DkZYbUi",
        "outputId": "6f83f848-bff9-44e5-c5b9-7ab93b560603"
      },
      "execution_count": 38,
      "outputs": [
        {
          "output_type": "execute_result",
          "data": {
            "text/plain": [
              "<matplotlib.axes._subplots.AxesSubplot at 0x7f4b429f4350>"
            ]
          },
          "metadata": {},
          "execution_count": 38
        },
        {
          "output_type": "display_data",
          "data": {
            "text/plain": [
              "<Figure size 720x720 with 2 Axes>"
            ],
            "image/png": "[encoded data removed]"
          },
          "metadata": {
            "needs_background": "light"
          }
        }
      ]
    },
    {
      "cell_type": "markdown",
      "source": [
        "Sembrerebbe esserci una correlazione abbastanza importante tra le diverse regioni di vendita, principalmente possiamo notare come sia presente un'importante correlazione tra le vendite gloabli e quelle in Nord America"
      ],
      "metadata": {
        "id": "eK8XsF4aBV-z"
      }
    },
    {
      "cell_type": "markdown",
      "source": [
        "## Test"
      ],
      "metadata": {
        "id": "tQ2J5ZplZIlo"
      }
    },
    {
      "cell_type": "markdown",
      "source": [
        "### La somma delle vendite in NA, EU, JP e Other è uguale alle Vendite Globali?"
      ],
      "metadata": {
        "id": "RcoI68Q8YyHe"
      }
    },
    {
      "cell_type": "markdown",
      "source": [
        "Per iniziare eseguiamo un t-test per verificare se la somma delle vendite (NA, EU, JP, Other) differisce in modo significativo dalla feature Global_Sales.\n",
        "\n",
        "Definiamo quindi le seguenti ipotesi:\n",
        "\n",
        "- H0: La media della somma delle vendite è uguale a quella delle vendite globali\n",
        "- HA: La media della somma delle vendite differisce da quella delle vendite globali"
      ],
      "metadata": {
        "id": "ZL6GE7WL7feR"
      }
    },
    {
      "cell_type": "code",
      "source": [
        "# Creazione di una colonna per contenere il risultato della somma di NA/JP/EU/Other_Sales\n",
        "games['Calc_Global_Sales'] = games[['NA_Sales', 'EU_Sales', 'JP_Sales', 'Other_Sales']].sum(axis=1)"
      ],
      "metadata": {
        "id": "jar6h9F2-oaw"
      },
      "execution_count": 39,
      "outputs": []
    },
    {
      "cell_type": "code",
      "source": [
        "shuffle = games.sample(frac = 1)"
      ],
      "metadata": {
        "id": "a0kDFRevaDLp"
      },
      "execution_count": 40,
      "outputs": []
    },
    {
      "cell_type": "code",
      "source": [
        "shuffle.head()"
      ],
      "metadata": {
        "colab": {
          "base_uri": "https://localhost:8080/",
          "height": 409
        },
        "id": "Upmo-UkWaMbs",
        "outputId": "1b24c1b6-7497-4058-d6de-57fe77f85306"
      },
      "execution_count": 41,
      "outputs": [
        {
          "output_type": "execute_result",
          "data": {
            "text/plain": [
              "                           Name Platform  Year_of_Release       Genre  \\\n",
              "5442            Bomberman World       PS             1998      Puzzle   \n",
              "223                    Driver 2       PS             2000      Action   \n",
              "9936   Marvel Trading Card Game       DS             2007        Misc   \n",
              "10976               New Legends       XB             2002      Action   \n",
              "11445      DanceDanceRevolution     X360             2011  Simulation   \n",
              "\n",
              "                          Publisher  NA_Sales  EU_Sales  JP_Sales  \\\n",
              "5442    Sony Computer Entertainment      0.06      0.04      0.22   \n",
              "223                           Atari      2.36      2.10      0.02   \n",
              "9936   Konami Digital Entertainment      0.11      0.00      0.00   \n",
              "10976                           THQ      0.07      0.02      0.00   \n",
              "11445  Konami Digital Entertainment      0.08      0.00      0.00   \n",
              "\n",
              "       Other_Sales  Global_Sales  Critic_Score  Critic_Count  User_Score  \\\n",
              "5442          0.02          0.33     68.973073     26.360261    7.125936   \n",
              "223           0.25          4.73     62.000000     14.000000    7.700000   \n",
              "9936          0.01          0.12     61.000000     17.000000    4.900000   \n",
              "10976         0.00          0.09     56.000000     22.000000    7.125936   \n",
              "11445         0.01          0.08     68.973073     26.360261    7.125936   \n",
              "\n",
              "       User_Count                 Developer Rating  Calc_Global_Sales  \n",
              "5442   162.239583                       NaN    NaN               0.34  \n",
              "223     92.000000   Reflections Interactive      T               4.73  \n",
              "9936     7.000000  1st Playable Productions      T               0.12  \n",
              "10976  162.239583          Infinite Machine      T               0.09  \n",
              "11445  162.239583                    Konami   E10+               0.09  "
            ],
            "text/html": [
              "\n",
              "  <div id=\"df-c97ae4fb-9546-4e8b-90ca-775da9776eee\">\n",
              "    <div class=\"colab-df-container\">\n",
              "      <div>\n",
              "<style scoped>\n",
              "    .dataframe tbody tr th:only-of-type {\n",
              "        vertical-align: middle;\n",
              "    }\n",
              "\n",
              "    .dataframe tbody tr th {\n",
              "        vertical-align: top;\n",
              "    }\n",
              "\n",
              "    .dataframe thead th {\n",
              "        text-align: right;\n",
              "    }\n",
              "</style>\n",
              "<table border=\"1\" class=\"dataframe\">\n",
              "  <thead>\n",
              "    <tr style=\"text-align: right;\">\n",
              "      <th></th>\n",
              "      <th>Name</th>\n",
              "      <th>Platform</th>\n",
              "      <th>Year_of_Release</th>\n",
              "      <th>Genre</th>\n",
              "      <th>Publisher</th>\n",
              "      <th>NA_Sales</th>\n",
              "      <th>EU_Sales</th>\n",
              "      <th>JP_Sales</th>\n",
              "      <th>Other_Sales</th>\n",
              "      <th>Global_Sales</th>\n",
              "      <th>Critic_Score</th>\n",
              "      <th>Critic_Count</th>\n",
              "      <th>User_Score</th>\n",
              "      <th>User_Count</th>\n",
              "      <th>Developer</th>\n",
              "      <th>Rating</th>\n",
              "      <th>Calc_Global_Sales</th>\n",
              "    </tr>\n",
              "  </thead>\n",
              "  <tbody>\n",
              "    <tr>\n",
              "      <th>5442</th>\n",
              "      <td>Bomberman World</td>\n",
              "      <td>PS</td>\n",
              "      <td>1998</td>\n",
              "      <td>Puzzle</td>\n",
              "      <td>Sony Computer Entertainment</td>\n",
              "      <td>0.06</td>\n",
              "      <td>0.04</td>\n",
              "      <td>0.22</td>\n",
              "      <td>0.02</td>\n",
              "      <td>0.33</td>\n",
              "      <td>68.973073</td>\n",
              "      <td>26.360261</td>\n",
              "      <td>7.125936</td>\n",
              "      <td>162.239583</td>\n",
              "      <td>NaN</td>\n",
              "      <td>NaN</td>\n",
              "      <td>0.34</td>\n",
              "    </tr>\n",
              "    <tr>\n",
              "      <th>223</th>\n",
              "      <td>Driver 2</td>\n",
              "      <td>PS</td>\n",
              "      <td>2000</td>\n",
              "      <td>Action</td>\n",
              "      <td>Atari</td>\n",
              "      <td>2.36</td>\n",
              "      <td>2.10</td>\n",
              "      <td>0.02</td>\n",
              "      <td>0.25</td>\n",
              "      <td>4.73</td>\n",
              "      <td>62.000000</td>\n",
              "      <td>14.000000</td>\n",
              "      <td>7.700000</td>\n",
              "      <td>92.000000</td>\n",
              "      <td>Reflections Interactive</td>\n",
              "      <td>T</td>\n",
              "      <td>4.73</td>\n",
              "    </tr>\n",
              "    <tr>\n",
              "      <th>9936</th>\n",
              "      <td>Marvel Trading Card Game</td>\n",
              "      <td>DS</td>\n",
              "      <td>2007</td>\n",
              "      <td>Misc</td>\n",
              "      <td>Konami Digital Entertainment</td>\n",
              "      <td>0.11</td>\n",
              "      <td>0.00</td>\n",
              "      <td>0.00</td>\n",
              "      <td>0.01</td>\n",
              "      <td>0.12</td>\n",
              "      <td>61.000000</td>\n",
              "      <td>17.000000</td>\n",
              "      <td>4.900000</td>\n",
              "      <td>7.000000</td>\n",
              "      <td>1st Playable Productions</td>\n",
              "      <td>T</td>\n",
              "      <td>0.12</td>\n",
              "    </tr>\n",
              "    <tr>\n",
              "      <th>10976</th>\n",
              "      <td>New Legends</td>\n",
              "      <td>XB</td>\n",
              "      <td>2002</td>\n",
              "      <td>Action</td>\n",
              "      <td>THQ</td>\n",
              "      <td>0.07</td>\n",
              "      <td>0.02</td>\n",
              "      <td>0.00</td>\n",
              "      <td>0.00</td>\n",
              "      <td>0.09</td>\n",
              "      <td>56.000000</td>\n",
              "      <td>22.000000</td>\n",
              "      <td>7.125936</td>\n",
              "      <td>162.239583</td>\n",
              "      <td>Infinite Machine</td>\n",
              "      <td>T</td>\n",
              "      <td>0.09</td>\n",
              "    </tr>\n",
              "    <tr>\n",
              "      <th>11445</th>\n",
              "      <td>DanceDanceRevolution</td>\n",
              "      <td>X360</td>\n",
              "      <td>2011</td>\n",
              "      <td>Simulation</td>\n",
              "      <td>Konami Digital Entertainment</td>\n",
              "      <td>0.08</td>\n",
              "      <td>0.00</td>\n",
              "      <td>0.00</td>\n",
              "      <td>0.01</td>\n",
              "      <td>0.08</td>\n",
              "      <td>68.973073</td>\n",
              "      <td>26.360261</td>\n",
              "      <td>7.125936</td>\n",
              "      <td>162.239583</td>\n",
              "      <td>Konami</td>\n",
              "      <td>E10+</td>\n",
              "      <td>0.09</td>\n",
              "    </tr>\n",
              "  </tbody>\n",
              "</table>\n",
              "</div>\n",
              "      <button class=\"colab-df-convert\" onclick=\"convertToInteractive('df-c97ae4fb-9546-4e8b-90ca-775da9776eee')\"\n",
              "              title=\"Convert this dataframe to an interactive table.\"\n",
              "              style=\"display:none;\">\n",
              "        \n",
              "  <svg xmlns=\"http://www.w3.org/2000/svg\" height=\"24px\"viewBox=\"0 0 24 24\"\n",
              "       width=\"24px\">\n",
              "    <path d=\"M0 0h24v24H0V0z\" fill=\"none\"/>\n",
              "    <path d=\"M18.56 5.44l.94 2.06.94-2.06 2.06-.94-2.06-.94-.94-2.06-.94 2.06-2.06.94zm-11 1L8.5 8.5l.94-2.06 2.06-.94-2.06-.94L8.5 2.5l-.94 2.06-2.06.94zm10 10l.94 2.06.94-2.06 2.06-.94-2.06-.94-.94-2.06-.94 2.06-2.06.94z\"/><path d=\"M17.41 7.96l-1.37-1.37c-.4-.4-.92-.59-1.43-.59-.52 0-1.04.2-1.43.59L10.3 9.45l-7.72 7.72c-.78.78-.78 2.05 0 2.83L4 21.41c.39.39.9.59 1.41.59.51 0 1.02-.2 1.41-.59l7.78-7.78 2.81-2.81c.8-.78.8-2.07 0-2.86zM5.41 20L4 18.59l7.72-7.72 1.47 1.35L5.41 20z\"/>\n",
              "  </svg>\n",
              "      </button>\n",
              "      \n",
              "  <style>\n",
              "    .colab-df-container {\n",
              "      display:flex;\n",
              "      flex-wrap:wrap;\n",
              "      gap: 12px;\n",
              "    }\n",
              "\n",
              "    .colab-df-convert {\n",
              "      background-color: #E8F0FE;\n",
              "      border: none;\n",
              "      border-radius: 50%;\n",
              "      cursor: pointer;\n",
              "      display: none;\n",
              "      fill: #1967D2;\n",
              "      height: 32px;\n",
              "      padding: 0 0 0 0;\n",
              "      width: 32px;\n",
              "    }\n",
              "\n",
              "    .colab-df-convert:hover {\n",
              "      background-color: #E2EBFA;\n",
              "      box-shadow: 0px 1px 2px rgba(60, 64, 67, 0.3), 0px 1px 3px 1px rgba(60, 64, 67, 0.15);\n",
              "      fill: #174EA6;\n",
              "    }\n",
              "\n",
              "    [theme=dark] .colab-df-convert {\n",
              "      background-color: #3B4455;\n",
              "      fill: #D2E3FC;\n",
              "    }\n",
              "\n",
              "    [theme=dark] .colab-df-convert:hover {\n",
              "      background-color: #434B5C;\n",
              "      box-shadow: 0px 1px 3px 1px rgba(0, 0, 0, 0.15);\n",
              "      filter: drop-shadow(0px 1px 2px rgba(0, 0, 0, 0.3));\n",
              "      fill: #FFFFFF;\n",
              "    }\n",
              "  </style>\n",
              "\n",
              "      <script>\n",
              "        const buttonEl =\n",
              "          document.querySelector('#df-c97ae4fb-9546-4e8b-90ca-775da9776eee button.colab-df-convert');\n",
              "        buttonEl.style.display =\n",
              "          google.colab.kernel.accessAllowed ? 'block' : 'none';\n",
              "\n",
              "        async function convertToInteractive(key) {\n",
              "          const element = document.querySelector('#df-c97ae4fb-9546-4e8b-90ca-775da9776eee');\n",
              "          const dataTable =\n",
              "            await google.colab.kernel.invokeFunction('convertToInteractive',\n",
              "                                                     [key], {});\n",
              "          if (!dataTable) return;\n",
              "\n",
              "          const docLinkHtml = 'Like what you see? Visit the ' +\n",
              "            '<a target=\"_blank\" href=https://colab.research.google.com/notebooks/data_table.ipynb>data table notebook</a>'\n",
              "            + ' to learn more about interactive tables.';\n",
              "          element.innerHTML = '';\n",
              "          dataTable['output_type'] = 'display_data';\n",
              "          await google.colab.output.renderOutput(dataTable, element);\n",
              "          const docLink = document.createElement('div');\n",
              "          docLink.innerHTML = docLinkHtml;\n",
              "          element.appendChild(docLink);\n",
              "        }\n",
              "      </script>\n",
              "    </div>\n",
              "  </div>\n",
              "  "
            ]
          },
          "metadata": {},
          "execution_count": 41
        }
      ]
    },
    {
      "cell_type": "markdown",
      "source": [
        "Devono essere verificate due importanti condizioni:\n",
        "- La distribuzione della popolazione deve essere normale e il campione deve essere ampio (>= 30)\n",
        "- La dimensione della popolazione deve essere almeno 10 volte superiore a quella del campione (10n < N)\n",
        "\n",
        "Questo per garantire che il campione sia tratto in modo indipendente.\n",
        "\n",
        "Entrambe le condizioni sono verificate, quindi possiamo continuare con il test.\n",
        "\n",
        "Fissiamo un livello di confidenza del 95%, quindi un livello di significatività dello 0.05"
      ],
      "metadata": {
        "id": "X0rS9QEQH9Lq"
      }
    },
    {
      "cell_type": "code",
      "source": [
        "t_statistic, p_value = stats.ttest_1samp(a= shuffle['Calc_Global_Sales'].values[0:1000], popmean= shuffle['Global_Sales'].mean(), alternative='two-sided')\n",
        "print(t_statistic)\n",
        "print(p_value)"
      ],
      "metadata": {
        "colab": {
          "base_uri": "https://localhost:8080/"
        },
        "id": "mCEUL0ofIzd_",
        "outputId": "5b0de67b-b868-42ca-a5fa-b1af199bb278"
      },
      "execution_count": 42,
      "outputs": [
        {
          "output_type": "stream",
          "name": "stdout",
          "text": [
            "-0.5229403068664171\n",
            "0.6011317526806953\n"
          ]
        }
      ]
    },
    {
      "cell_type": "markdown",
      "source": [
        "Visto che il p_value è maggiore del livello di significiatività prefissato (0.05), allora accettiamo l'ipotesi nulla"
      ],
      "metadata": {
        "id": "4oM6WzsQmEXz"
      }
    },
    {
      "cell_type": "code",
      "source": [
        "games[['Global_Sales', 'Calc_Global_Sales']].plot(kind='box', figsize=(10,5))"
      ],
      "metadata": {
        "colab": {
          "base_uri": "https://localhost:8080/",
          "height": 339
        },
        "id": "g70fKlvoPE-i",
        "outputId": "69d985e3-4239-41f3-8357-e4a7e676f26b"
      },
      "execution_count": 43,
      "outputs": [
        {
          "output_type": "execute_result",
          "data": {
            "text/plain": [
              "<matplotlib.axes._subplots.AxesSubplot at 0x7f4b40147c10>"
            ]
          },
          "metadata": {},
          "execution_count": 43
        },
        {
          "output_type": "display_data",
          "data": {
            "text/plain": [
              "<Figure size 720x360 with 1 Axes>"
            ],
            "image/png": "[encoded data removed]"
          },
          "metadata": {
            "needs_background": "light"
          }
        }
      ]
    },
    {
      "cell_type": "code",
      "source": [
        "games[['Global_Sales', 'Calc_Global_Sales']].plot(kind='box', figsize=(10,5), ylim=(0,2), grid=True)"
      ],
      "metadata": {
        "colab": {
          "base_uri": "https://localhost:8080/",
          "height": 343
        },
        "id": "yRTxij7aRwx7",
        "outputId": "12e10c80-c53f-486b-d1e0-9306991a9368"
      },
      "execution_count": 44,
      "outputs": [
        {
          "output_type": "execute_result",
          "data": {
            "text/plain": [
              "<matplotlib.axes._subplots.AxesSubplot at 0x7f4b3ff55b90>"
            ]
          },
          "metadata": {},
          "execution_count": 44
        },
        {
          "output_type": "display_data",
          "data": {
            "text/plain": [
              "<Figure size 720x360 with 1 Axes>"
            ],
            "image/png": "[encoded data removed]"
          },
          "metadata": {
            "needs_background": "light"
          }
        }
      ]
    },
    {
      "cell_type": "markdown",
      "source": [
        "TODO:\n",
        "- Boxplot\n",
        "- Campionamento randomico del range per campione_sum:\n",
        "\n",
        "  - list = random.sample(range(n), n_values)\n",
        "  - np.concatenate()"
      ],
      "metadata": {
        "id": "V-K6wNfgOYmZ"
      }
    },
    {
      "cell_type": "markdown",
      "source": [
        "## Metodi predittivi"
      ],
      "metadata": {
        "id": "OTeBqn2RjgFM"
      }
    },
    {
      "cell_type": "markdown",
      "source": [
        "Cerchiamo attraverso l'allenamento e l'utilizzo di un modello di regressione lineare se esiste una relazione lineare tra le vendite globali e le vendite in Nord America:"
      ],
      "metadata": {
        "id": "XZzce-O0ke3i"
      }
    },
    {
      "cell_type": "code",
      "source": [
        "games.plot(kind='scatter', x='Global_Sales', y='NA_Sales', alpha=0.2, xlim=(0,40), ylim=(0,40))"
      ],
      "metadata": {
        "colab": {
          "base_uri": "https://localhost:8080/",
          "height": 302
        },
        "id": "JBtnYu1GlEXs",
        "outputId": "5d73eca3-9cbb-4b39-a999-8eb1597477fb"
      },
      "execution_count": 50,
      "outputs": [
        {
          "output_type": "execute_result",
          "data": {
            "text/plain": [
              "<matplotlib.axes._subplots.AxesSubplot at 0x7f4b3fde6e10>"
            ]
          },
          "metadata": {},
          "execution_count": 50
        },
        {
          "output_type": "display_data",
          "data": {
            "text/plain": [
              "<Figure size 432x288 with 1 Axes>"
            ],
            "image/png": "[encoded data removed]"
          },
          "metadata": {
            "needs_background": "light"
          }
        }
      ]
    },
    {
      "cell_type": "markdown",
      "source": [
        "Sembrerebbe che le vendite globali e in NA siano correlate, verifichiamolo con il calcolo del coefficiente di correlazione di Pearson"
      ],
      "metadata": {
        "id": "33J79RdnleqB"
      }
    },
    {
      "cell_type": "code",
      "source": [
        "games[['Global_Sales', 'NA_Sales']].corr()"
      ],
      "metadata": {
        "colab": {
          "base_uri": "https://localhost:8080/",
          "height": 112
        },
        "id": "TOLsRZnNlqWI",
        "outputId": "ac60fdb3-f0ac-4e1a-c08a-92e2012475ab"
      },
      "execution_count": 48,
      "outputs": [
        {
          "output_type": "execute_result",
          "data": {
            "text/plain": [
              "              Global_Sales  NA_Sales\n",
              "Global_Sales      1.000000  0.941004\n",
              "NA_Sales          0.941004  1.000000"
            ],
            "text/html": [
              "\n",
              "  <div id=\"df-17aba8b1-6924-4ce1-971a-b8c95eb33a7f\">\n",
              "    <div class=\"colab-df-container\">\n",
              "      <div>\n",
              "<style scoped>\n",
              "    .dataframe tbody tr th:only-of-type {\n",
              "        vertical-align: middle;\n",
              "    }\n",
              "\n",
              "    .dataframe tbody tr th {\n",
              "        vertical-align: top;\n",
              "    }\n",
              "\n",
              "    .dataframe thead th {\n",
              "        text-align: right;\n",
              "    }\n",
              "</style>\n",
              "<table border=\"1\" class=\"dataframe\">\n",
              "  <thead>\n",
              "    <tr style=\"text-align: right;\">\n",
              "      <th></th>\n",
              "      <th>Global_Sales</th>\n",
              "      <th>NA_Sales</th>\n",
              "    </tr>\n",
              "  </thead>\n",
              "  <tbody>\n",
              "    <tr>\n",
              "      <th>Global_Sales</th>\n",
              "      <td>1.000000</td>\n",
              "      <td>0.941004</td>\n",
              "    </tr>\n",
              "    <tr>\n",
              "      <th>NA_Sales</th>\n",
              "      <td>0.941004</td>\n",
              "      <td>1.000000</td>\n",
              "    </tr>\n",
              "  </tbody>\n",
              "</table>\n",
              "</div>\n",
              "      <button class=\"colab-df-convert\" onclick=\"convertToInteractive('df-17aba8b1-6924-4ce1-971a-b8c95eb33a7f')\"\n",
              "              title=\"Convert this dataframe to an interactive table.\"\n",
              "              style=\"display:none;\">\n",
              "        \n",
              "  <svg xmlns=\"http://www.w3.org/2000/svg\" height=\"24px\"viewBox=\"0 0 24 24\"\n",
              "       width=\"24px\">\n",
              "    <path d=\"M0 0h24v24H0V0z\" fill=\"none\"/>\n",
              "    <path d=\"M18.56 5.44l.94 2.06.94-2.06 2.06-.94-2.06-.94-.94-2.06-.94 2.06-2.06.94zm-11 1L8.5 8.5l.94-2.06 2.06-.94-2.06-.94L8.5 2.5l-.94 2.06-2.06.94zm10 10l.94 2.06.94-2.06 2.06-.94-2.06-.94-.94-2.06-.94 2.06-2.06.94z\"/><path d=\"M17.41 7.96l-1.37-1.37c-.4-.4-.92-.59-1.43-.59-.52 0-1.04.2-1.43.59L10.3 9.45l-7.72 7.72c-.78.78-.78 2.05 0 2.83L4 21.41c.39.39.9.59 1.41.59.51 0 1.02-.2 1.41-.59l7.78-7.78 2.81-2.81c.8-.78.8-2.07 0-2.86zM5.41 20L4 18.59l7.72-7.72 1.47 1.35L5.41 20z\"/>\n",
              "  </svg>\n",
              "      </button>\n",
              "      \n",
              "  <style>\n",
              "    .colab-df-container {\n",
              "      display:flex;\n",
              "      flex-wrap:wrap;\n",
              "      gap: 12px;\n",
              "    }\n",
              "\n",
              "    .colab-df-convert {\n",
              "      background-color: #E8F0FE;\n",
              "      border: none;\n",
              "      border-radius: 50%;\n",
              "      cursor: pointer;\n",
              "      display: none;\n",
              "      fill: #1967D2;\n",
              "      height: 32px;\n",
              "      padding: 0 0 0 0;\n",
              "      width: 32px;\n",
              "    }\n",
              "\n",
              "    .colab-df-convert:hover {\n",
              "      background-color: #E2EBFA;\n",
              "      box-shadow: 0px 1px 2px rgba(60, 64, 67, 0.3), 0px 1px 3px 1px rgba(60, 64, 67, 0.15);\n",
              "      fill: #174EA6;\n",
              "    }\n",
              "\n",
              "    [theme=dark] .colab-df-convert {\n",
              "      background-color: #3B4455;\n",
              "      fill: #D2E3FC;\n",
              "    }\n",
              "\n",
              "    [theme=dark] .colab-df-convert:hover {\n",
              "      background-color: #434B5C;\n",
              "      box-shadow: 0px 1px 3px 1px rgba(0, 0, 0, 0.15);\n",
              "      filter: drop-shadow(0px 1px 2px rgba(0, 0, 0, 0.3));\n",
              "      fill: #FFFFFF;\n",
              "    }\n",
              "  </style>\n",
              "\n",
              "      <script>\n",
              "        const buttonEl =\n",
              "          document.querySelector('#df-17aba8b1-6924-4ce1-971a-b8c95eb33a7f button.colab-df-convert');\n",
              "        buttonEl.style.display =\n",
              "          google.colab.kernel.accessAllowed ? 'block' : 'none';\n",
              "\n",
              "        async function convertToInteractive(key) {\n",
              "          const element = document.querySelector('#df-17aba8b1-6924-4ce1-971a-b8c95eb33a7f');\n",
              "          const dataTable =\n",
              "            await google.colab.kernel.invokeFunction('convertToInteractive',\n",
              "                                                     [key], {});\n",
              "          if (!dataTable) return;\n",
              "\n",
              "          const docLinkHtml = 'Like what you see? Visit the ' +\n",
              "            '<a target=\"_blank\" href=https://colab.research.google.com/notebooks/data_table.ipynb>data table notebook</a>'\n",
              "            + ' to learn more about interactive tables.';\n",
              "          element.innerHTML = '';\n",
              "          dataTable['output_type'] = 'display_data';\n",
              "          await google.colab.output.renderOutput(dataTable, element);\n",
              "          const docLink = document.createElement('div');\n",
              "          docLink.innerHTML = docLinkHtml;\n",
              "          element.appendChild(docLink);\n",
              "        }\n",
              "      </script>\n",
              "    </div>\n",
              "  </div>\n",
              "  "
            ]
          },
          "metadata": {},
          "execution_count": 48
        }
      ]
    },
    {
      "cell_type": "markdown",
      "source": [
        "Ora possiamo passare all'implementazione e allenamento di un modello di regressione lineare.\n",
        "\n",
        "Prima di tutto è necessario suddividere il dataset a disposizione in due gruppi:\n",
        "- Training set: dati utilizzati per l'allenamento del modello di regressione\n",
        "- Validation set: dati che utilizziamo per valutare il modello creato"
      ],
      "metadata": {
        "id": "hYldmpVal_Pd"
      }
    },
    {
      "cell_type": "code",
      "source": [
        "x= games[['Global_Sales']]\n",
        "y= games['NA_Sales']\n",
        "\n",
        "# Divisione randomica dei dati nei vari insiemi con una percentuale di 70 (Allenamento) -30 (Test)\n",
        "X_train, X_valid, y_train, y_valid = train_test_split(x, y, test_size=0.3, random_state=1) \n",
        "\n",
        "print(\"X_valid: \", X_valid.shape)\n",
        "print(\"X_train: \", X_train.shape) "
      ],
      "metadata": {
        "colab": {
          "base_uri": "https://localhost:8080/"
        },
        "id": "JnbqKVvkmjWA",
        "outputId": "55a82b99-7adc-4065-8b06-afe206240c2d"
      },
      "execution_count": 57,
      "outputs": [
        {
          "output_type": "stream",
          "name": "stdout",
          "text": [
            "X_valid:  (4999, 1)\n",
            "X_train:  (11664, 1)\n"
          ]
        }
      ]
    },
    {
      "cell_type": "code",
      "source": [
        "regressor = LinearRegression()  # istanzia il modello\n",
        "lin_reg = regressor.fit(X_train, y_train)  # adatta il modello al nostro set di addestamento \n",
        "\n",
        "print(\"\\nintercept: \", lin_reg.intercept_)\n",
        "print(\"coefficient: \", lin_reg.coef_)"
      ],
      "metadata": {
        "colab": {
          "base_uri": "https://localhost:8080/"
        },
        "id": "g8EwPM8HoBkU",
        "outputId": "457f694f-db50-438d-ddf7-0942dca1555b"
      },
      "execution_count": 60,
      "outputs": [
        {
          "output_type": "stream",
          "name": "stdout",
          "text": [
            "\n",
            "intercept:  -0.0011981739388669532\n",
            "coefficient:  [0.49475817]\n"
          ]
        }
      ]
    },
    {
      "cell_type": "code",
      "source": [
        "plt.scatter(X_train, y_train, alpha=0.2)\n",
        "\n",
        "y_hat = X_train * lin_reg.coef_ + lin_reg.intercept_\n",
        "plt.plot(X_train, y_hat, color='r')"
      ],
      "metadata": {
        "colab": {
          "base_uri": "https://localhost:8080/",
          "height": 283
        },
        "id": "bFi6JVioofOQ",
        "outputId": "84432e98-3351-4ba0-e1c1-912b8043eddb"
      },
      "execution_count": 61,
      "outputs": [
        {
          "output_type": "execute_result",
          "data": {
            "text/plain": [
              "[<matplotlib.lines.Line2D at 0x7f4b3b896a90>]"
            ]
          },
          "metadata": {},
          "execution_count": 61
        },
        {
          "output_type": "display_data",
          "data": {
            "text/plain": [
              "<Figure size 432x288 with 1 Axes>"
            ],
            "image/png": "[encoded data removed]"
          },
          "metadata": {
            "needs_background": "light"
          }
        }
      ]
    },
    {
      "cell_type": "markdown",
      "source": [
        "Adesso possiamo utilizzare il modello allenato per effettuare predizioni sull'insieme di validazione"
      ],
      "metadata": {
        "id": "YoXyB9FbojVf"
      }
    },
    {
      "cell_type": "code",
      "source": [
        "y_hat = regressor.predict(X_valid) # predizioni sul nostro set di collaudo\n",
        "print(y_hat)"
      ],
      "metadata": {
        "colab": {
          "base_uri": "https://localhost:8080/"
        },
        "id": "1IAH7p_cowA4",
        "outputId": "b417df7f-170b-4028-da98-08e66b35abfa"
      },
      "execution_count": 62,
      "outputs": [
        {
          "output_type": "stream",
          "name": "stdout",
          "text": [
            "[0.01859215 0.7904149  0.1422817  ... 0.01859215 0.00869699 0.05322522]\n"
          ]
        }
      ]
    },
    {
      "cell_type": "code",
      "source": [
        "plt.scatter(X_valid, y_hat)\n",
        "plt.scatter(X_valid, y_valid, c='r', alpha=0.2)"
      ],
      "metadata": {
        "colab": {
          "base_uri": "https://localhost:8080/",
          "height": 283
        },
        "id": "jqW36PYjo2ML",
        "outputId": "89290754-263d-47f8-b0f3-57b650ae3af2"
      },
      "execution_count": 63,
      "outputs": [
        {
          "output_type": "execute_result",
          "data": {
            "text/plain": [
              "<matplotlib.collections.PathCollection at 0x7f4b3b876f50>"
            ]
          },
          "metadata": {},
          "execution_count": 63
        },
        {
          "output_type": "display_data",
          "data": {
            "text/plain": [
              "<Figure size 432x288 with 1 Axes>"
            ],
            "image/png": "[encoded data removed]"
          },
          "metadata": {
            "needs_background": "light"
          }
        }
      ]
    },
    {
      "cell_type": "markdown",
      "source": [
        "Stimiamo ora la precisione del modello che abbiamo allenato.\n",
        "\n",
        "Abbiamo visto che esistono 3 metriche per valutare i modelli a regressione di machine learning:\n",
        "- MAE - Mean Absolute Error\n",
        "- MSE - Mean Squared Error\n",
        "- RMSE - Root of Mean Squared Error\n",
        "\n"
      ],
      "metadata": {
        "id": "5c22uZiRrK57"
      }
    },
    {
      "cell_type": "code",
      "source": [
        "# Predizioni sul validation set (y_pred)\n",
        "y_pred = regressor.predict(X_valid)\n",
        "\n",
        "print ('MAE:', metrics.mean_absolute_error(y_valid, y_pred))\n",
        "print ('MSE:', metrics.mean_squared_error(y_valid, y_pred))\n",
        "print ('RMSE:', np.sqrt(metrics.mean_squared_error(y_valid, y_pred)))"
      ],
      "metadata": {
        "colab": {
          "base_uri": "https://localhost:8080/"
        },
        "id": "vr_O-LLgsXRa",
        "outputId": "667e93ed-3d85-431d-bd70-c38b54f1511f"
      },
      "execution_count": 65,
      "outputs": [
        {
          "output_type": "stream",
          "name": "stdout",
          "text": [
            "MAE: 0.10081934467784152\n",
            "MSE: 0.06756178521862642\n",
            "RMSE: 0.2599264996467779\n"
          ]
        }
      ]
    },
    {
      "cell_type": "markdown",
      "source": [
        "Per capire se questi risultati sono buoni dobbiamo determinare il modello nullo, cioè il modello che rappresenta in modo efficace il fatto di tirare a indovinare più e più volte il risultato atteso e vedere l'efficacia di quest'ultimo.\n",
        "\n",
        "Essendo un modello di regressione possiamo sostituire tutti i valori della feature NA_Sales con la media sull'intero dataset."
      ],
      "metadata": {
        "id": "BYGqlxcUst9Y"
      }
    },
    {
      "cell_type": "code",
      "source": [
        "mean_NAS = games['NA_Sales'].mean()\n",
        "print(\"mean_NA_Sales: \", mean_NAS)\n",
        "\n",
        "# Creo la nuova x con lo stesso numero di campioni del dataset originale, e con tutti i valori uguali al \n",
        "# valore medio del numero di vendite appena calcolato\n",
        "null_model_y = [mean_NAS] * games.shape[0]"
      ],
      "metadata": {
        "colab": {
          "base_uri": "https://localhost:8080/"
        },
        "id": "-7msZ8vqutkP",
        "outputId": "421c3447-fbf6-440e-e5e0-f700f675bc7d"
      },
      "execution_count": 66,
      "outputs": [
        {
          "output_type": "stream",
          "name": "stdout",
          "text": [
            "mean_NA_Sales:  0.26359779151415424\n"
          ]
        }
      ]
    },
    {
      "cell_type": "code",
      "source": [
        "# Valutiamo il modello nullo\n",
        "print ('MODELLO NULLO')\n",
        "print ('MAE:', metrics.mean_absolute_error(y, null_model_y))\n",
        "print ('MSE:', metrics.mean_squared_error(y, null_model_y))\n",
        "print ('RMSE:', np.sqrt(metrics.mean_squared_error(y, null_model_y)))"
      ],
      "metadata": {
        "colab": {
          "base_uri": "https://localhost:8080/"
        },
        "id": "5HJUi8q_vQeZ",
        "outputId": "e2f38543-eb11-4fc7-e783-c1382d3c2460"
      },
      "execution_count": 68,
      "outputs": [
        {
          "output_type": "stream",
          "name": "stdout",
          "text": [
            "MODELLO NULLO\n",
            "MAE: 0.3077009869015204\n",
            "MSE: 0.6635634767087996\n",
            "RMSE: 0.8145940563917708\n"
          ]
        }
      ]
    },
    {
      "cell_type": "markdown",
      "source": [
        "Possiamo facilmente notare che fortunatamente gli errori sono più grandi rispetto a quelli del modello di regressione lineare, questo ci fa capire che abbiamo fatto meglio che tirare a caso..."
      ],
      "metadata": {
        "id": "3i41TL1pvXHe"
      }
    }
  ],
  "metadata": {
    "interpreter": {
      "hash": "1f771dde4b500061186afe57a84f62db3307a19d72dc5f1041298958e9c8357b"
    },
    "kernelspec": {
      "display_name": "Python 3.9.12 64-bit (windows store)",
      "language": "python",
      "name": "python3"
    },
    "language_info": {
      "codemirror_mode": {
        "name": "ipython",
        "version": 3
      },
      "file_extension": ".py",
      "mimetype": "text/x-python",
      "name": "python",
      "nbconvert_exporter": "python",
      "pygments_lexer": "ipython3",
      "version": "3.9.12"
    },
    "orig_nbformat": 4,
    "colab": {
      "name": "video_games.ipynb",
      "provenance": [],
      "collapsed_sections": [
        "6qri0FfOzbhx",
        "yqtU1KBCJ5w6",
        "X0LcY26p3mPz",
        "PATxbNWEQNQH",
        "EBFdOqwfKVtS",
        "oxAX_31iP-VY",
        "NBmkV-mD3J9i",
        "OZMsgOPiPz7O",
        "dJdcuyxhQE9S",
        "2PoZuM3EQU-0",
        "vAEgFcI4QdUa",
        "idS9BZlEQi1Q",
        "y6i4GE2TSHUJ",
        "f3qtoFBEBALa",
        "xmU3MS3SeQgI",
        "WkAx1h11hW2t",
        "BFO9k25CeYmC",
        "02wvCHYZemf_",
        "7dlJiuMtnZOY",
        "RcoI68Q8YyHe"
      ]
    }
  },
  "nbformat": 4,
  "nbformat_minor": 0
}